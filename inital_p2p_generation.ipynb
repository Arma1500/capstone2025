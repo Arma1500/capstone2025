{
 "cells": [
  {
   "cell_type": "code",
   "execution_count": 99,
   "id": "aae99cd3",
   "metadata": {},
   "outputs": [],
   "source": [
    "import matplotlib.pyplot as plt\n",
    "import open3d as o3d\n",
    "import numpy as np\n",
    "import os\n",
    "\n",
    "# from pyFM.functional import p2p_to_FM\n",
    "# from pyFM.spectral import LB\n",
    "\n",
    "import polyscope as ps\n",
    "ps.init()\n",
    "\n",
    "import meshplot as mp\n",
    "def plot_mesh(myMesh,cmap=None):\n",
    "    mp.plot(myMesh.vertlist, myMesh.facelist,c=cmap)\n",
    "    \n",
    "def double_plot(myMesh1,myMesh2,cmap1=None,cmap2=None):\n",
    "    vertlist_1 = np.asarray(myMesh1.vertices)\n",
    "    facelist_1 = np.asarray(myMesh1.triangles)\n",
    "\n",
    "    vertlist_2 = np.asarray(myMesh2.vertices)\n",
    "    facelist_2 = np.asarray(myMesh2.triangles)\n",
    "    \n",
    "    d = mp.subplot(vertlist_1, facelist_1, c=cmap1, s=[2, 2, 0])\n",
    "    mp.subplot(vertlist_2, facelist_2, c=cmap2, s=[2, 2, 1], data=d)\n",
    "\n",
    "def visu(vertices):\n",
    "    min_coord,max_coord = np.min(vertices,axis=0,keepdims=True),np.max(vertices,axis=0,keepdims=True)\n",
    "    cmap = (vertices-min_coord)/(max_coord-min_coord)\n",
    "    return cmap"
   ]
  },
  {
   "cell_type": "code",
   "execution_count": 100,
   "id": "25c4d611",
   "metadata": {},
   "outputs": [],
   "source": [
    "mesh_1 = o3d.io.read_triangle_mesh(os.path.abspath(\"../simulation/meshes_dancer/frame_0001.ply\"))\n",
    "mesh_2 = o3d.io.read_triangle_mesh(os.path.abspath(\"../simulation/meshes_dancer/frame_0002.ply\"))\n",
    "\n",
    "mesh_1.compute_vertex_normals()\n",
    "mesh_2.compute_vertex_normals()\n",
    "\n",
    "verts_1 = np.asarray(mesh_1.vertices)\n",
    "verts_2 = np.asarray(mesh_2.vertices)\n",
    "\n",
    "faces_1 = np.asarray(mesh_1.triangles)\n",
    "vertices_1 = np.asarray(mesh_1.vertices)\n",
    "ps_mesh_1 = ps.register_surface_mesh(\"mesh_1\", vertices_1, faces_1)\n",
    "\n",
    "faces_2 = np.asarray(mesh_2.triangles)\n",
    "vertices_2 = np.asarray(mesh_2.vertices)\n",
    "ps_mesh_2 = ps.register_surface_mesh(\"mesh_2\", vertices_2, faces_2)\n",
    "ps.show()\n",
    "ps.remove_all_structures() # clear the whole scene\n",
    "\n",
    "#o3d.visualization.draw_geometries([mesh_1] + [mesh_2])"
   ]
  },
  {
   "cell_type": "markdown",
   "id": "16d7e4eb",
   "metadata": {},
   "source": [
    "## KDTREE Nearest Neighbour Seach with Open3D"
   ]
  },
  {
   "cell_type": "code",
   "execution_count": 101,
   "id": "d9fd385a",
   "metadata": {},
   "outputs": [],
   "source": [
    "# KDTree for mesh_1 -> mesh_2\n",
    "pcd_2 = o3d.geometry.PointCloud() # create pointcloud\n",
    "pcd_2.points = o3d.utility.Vector3dVector(verts_2) # assign verts with normals to cloud\n",
    "kdtree = o3d.geometry.KDTreeFlann(pcd_2)\n",
    "\n",
    "# search for nearest neighbour in mesh_1\n",
    "p2p_map = []\n",
    "for vert in verts_1:\n",
    "    [_, idx, _] = kdtree.search_knn_vector_3d(vert, 1) \n",
    "    p2p_map.append(idx[0])\n",
    "\n",
    "p2p_map = np.array(p2p_map)"
   ]
  },
  {
   "cell_type": "code",
   "execution_count": 102,
   "id": "23e71a79",
   "metadata": {},
   "outputs": [
    {
     "data": {
      "application/vnd.jupyter.widget-view+json": {
       "model_id": "f4eb4214c2a9477caac612330b298b45",
       "version_major": 2,
       "version_minor": 0
      },
      "text/plain": [
       "HBox(children=(Output(), Output()))"
      ]
     },
     "metadata": {},
     "output_type": "display_data"
    },
    {
     "data": {
      "application/vnd.jupyter.widget-view+json": {
       "model_id": "c0d6612739414f7e913b8ae3a6692efb",
       "version_major": 2,
       "version_minor": 0
      },
      "text/plain": [
       "HBox(children=(Output(), Output()))"
      ]
     },
     "metadata": {},
     "output_type": "display_data"
    }
   ],
   "source": [
    "# assign scalar values to mesh1\n",
    "cmap_1 = np.linspace(0, 1, len(verts_1))\n",
    "\n",
    "# map mesh1 scalars into mesh2\n",
    "cmap_2 = np.zeros(len(verts_2))   # default zero for all verts\n",
    "cmap_2 = cmap_1[p2p_map]       # assign scalars where correspondence exists\n",
    "\n",
    "cmap = plt.get_cmap(\"jet\") # RGB ALpha colour map from matplotlib\n",
    "cmap_1 = cmap(cmap_1)[:,:3]\n",
    "cmap_2 = cmap(cmap_2)[:,:3]\n",
    "\n",
    "double_plot(mesh_1,mesh_2,cmap_1,cmap_2)"
   ]
  },
  {
   "cell_type": "code",
   "execution_count": 91,
   "id": "326503f7",
   "metadata": {},
   "outputs": [],
   "source": [
    "faces_1 = np.asarray(mesh_1.triangles)\n",
    "vertices_1 = np.asarray(mesh_1.vertices)\n",
    "ps_mesh_1 = ps.register_surface_mesh(\"mesh_1\", vertices_1, faces_1)\n",
    "\n",
    "faces_2 = np.asarray(mesh_2.triangles)\n",
    "vertices_2 = np.asarray(mesh_2.vertices)\n",
    "ps_mesh_2 = ps.register_surface_mesh(\"mesh_2\", vertices_2, faces_2)\n",
    "\n",
    "# cmaps\n",
    "# cmap_1 = (np.linspace(0,1,len(vertices_1))).reshape(-1,1) # gradient for mesh_1\n",
    "# cmap_1 = np.repeat(cmap_1, 3, axis=1) \n",
    "# print(cmap_1)\n",
    "\n",
    "# cmap_2 = np.zeros((len(vertices_2), 3))\n",
    "# for i, j in enumerate(p2p_map):\n",
    "#     cmap_2[j] = cmap_1[i]   # assign color of vertex i in mesh1 to vertex j in mesh2\n",
    "# ------------------------------------------------------------------------------------------\n",
    "cmap = plt.get_cmap(\"jet\") # RGB ALpha colour map from matplotlib\n",
    "# assign scalar values to mesh1\n",
    "scalars_1 = np.linspace(0, 1, len(verts_1))\n",
    "\n",
    "# map mesh1 scalars into mesh2 using correspondence\n",
    "scalars_2 = np.zeros(len(verts_2))   # default zero for all verts\n",
    "scalars_2[p2p_map] = scalars_1       # assign scalars where correspondence exists\n",
    "\n",
    "cmap_1 = cmap(scalars_1)[:,:3]\n",
    "cmap_2 = cmap(scalars_2)[:,:3]\n",
    "\n",
    "ps_mesh_1.add_color_quantity(\"cmap_1\", cmap_1, enabled=True)\n",
    "ps_mesh_2.add_color_quantity(\"cmap_2\", cmap_2, enabled=True)\n",
    "\n",
    "ps.show()\n",
    "ps.remove_all_structures() # clear the whole scene"
   ]
  },
  {
   "cell_type": "code",
   "execution_count": 92,
   "id": "aa301ceb",
   "metadata": {},
   "outputs": [],
   "source": [
    "import numpy as np\n",
    "import matplotlib.pyplot as plt\n",
    "import polyscope as ps\n",
    "\n",
    "ps.init()\n",
    "\n",
    "# suppose vertices_1 and faces_1 are already defined\n",
    "n1 = len(vertices_1)\n",
    "\n",
    "# create a gradient\n",
    "scalars_1 = np.linspace(0,1,n1)             # shape (n1,)\n",
    "cmap = plt.get_cmap(\"jet\")                  \n",
    "cmap_1 = cmap(scalars_1)[:, :3]             # shape (n1,3)\n",
    "\n",
    "# register mesh and assign colors\n",
    "ps_mesh_1 = ps.register_surface_mesh(\"mesh1\", vertices_1, faces_1)\n",
    "ps_mesh_1.add_color_quantity(\"cmap_1\", cmap_1, enabled=True)\n",
    "\n",
    "ps.show()\n"
   ]
  },
  {
   "cell_type": "code",
   "execution_count": 93,
   "id": "0e7c9f52",
   "metadata": {},
   "outputs": [],
   "source": [
    "num_samples = 100\n",
    "sample_idx = np.random.choice(len(vertices_1), num_samples, replace=False)\n",
    "\n",
    "edges = []\n",
    "points = []\n",
    "\n",
    "# stack both meshes in one point cloud so we can draw edges between them\n",
    "points = np.vstack([vertices_1, vertices_2])\n",
    "\n",
    "# edges connect vertex i in mesh1 → corresponding vertex in mesh2\n",
    "for i in sample_idx:\n",
    "    edges.append([i, len(vertices_1) + p2p_map[i]])\n",
    "\n",
    "edges = np.array(edges)\n",
    "\n",
    "ps.register_curve_network(\"Correspondences\", points, edges, radius=0.002, color=(0,0,0))\n",
    "ps.show()\n",
    "ps.remove_all_structures() # clear the whole scene"
   ]
  },
  {
   "cell_type": "code",
   "execution_count": 94,
   "id": "61182355",
   "metadata": {},
   "outputs": [],
   "source": [
    "ps_mesh_1 = ps.register_surface_mesh(\"mesh1\", vertices_1, faces_1)\n",
    "ps_mesh_1.add_color_quantity(\"colors\", cmap_1, enabled=True)\n",
    "\n",
    "ps_mesh_2 = ps.register_surface_mesh(\"mesh2\", vertices_2, faces_2)\n",
    "ps_mesh_2.add_color_quantity(\"colors\", cmap_2, enabled=True)\n",
    "\n",
    "# curve network for correspondences\n",
    "curve = ps.register_curve_network(\"Correspondences\", points, edges, radius=0.002)\n",
    "\n",
    "# color the endpoints of the curves (this will interpolate along the line)\n",
    "all_scalars = np.concatenate([scalars_1, scalars_2])\n",
    "curve.add_color_quantity(\"edge_colors\", cmap(all_scalars)[:, :3], defined_on=\"nodes\", enabled=True)\n",
    "\n",
    "ps.show()\n",
    "ps.remove_all_structures()"
   ]
  },
  {
   "cell_type": "code",
   "execution_count": 95,
   "id": "687d147a",
   "metadata": {},
   "outputs": [],
   "source": [
    "import numpy as np\n",
    "import matplotlib.pyplot as plt\n",
    "import polyscope as ps\n",
    "\n",
    "ps.init()\n",
    "\n",
    "# mesh1 gradient\n",
    "scalars_1 = np.linspace(0,1,len(vertices_1))\n",
    "cmap = plt.get_cmap(\"jet\")\n",
    "cmap_1 = cmap(scalars_1)[:, :3]\n",
    "\n",
    "# mesh2 colors: start as grey\n",
    "cmap_2 = np.ones((len(vertices_2),3)) * 0.7\n",
    "\n",
    "# assign mesh1 colors to corresponding vertices in mesh2\n",
    "for i, j in enumerate(p2p_map):\n",
    "    cmap_2[j] = cmap_1[i]\n",
    "\n",
    "# register meshes\n",
    "ps_mesh_1 = ps.register_surface_mesh(\"mesh1\", vertices_1, faces_1)\n",
    "ps_mesh_1.add_color_quantity(\"colors\", cmap_1, enabled=True)\n",
    "\n",
    "ps_mesh_2 = ps.register_surface_mesh(\"mesh2\", vertices_2, faces_2)\n",
    "ps_mesh_2.add_color_quantity(\"colors\", cmap_2, enabled=True)\n",
    "\n",
    "ps.show()\n"
   ]
  },
  {
   "cell_type": "markdown",
   "id": "7497c2dc",
   "metadata": {},
   "source": [
    "## Converting to use in pyFM"
   ]
  },
  {
   "cell_type": "code",
   "execution_count": null,
   "id": "e3b7c440",
   "metadata": {},
   "outputs": [],
   "source": [
    "k_eigs = 150 # the pyFM examples use 150 when they load their mesh\n",
    "eigvects_1, eigvals_1 = LB(mesh_1, k_eigs)\n",
    "eigvects_2, eigvals_2 = LB(mesh_2, k_eigs)\n",
    "\n",
    "C_init = p2p_to_FM(p2p_map, eigvects_1, eigvects_2)\n",
    "\n",
    "cmap1 = visu(mesh_1.vertlist); cmap2 = cmap1[p2p_map]\n",
    "double_plot(mesh_1, mesh_2, cmap1, cmap2)"
   ]
  }
 ],
 "metadata": {
  "kernelspec": {
   "display_name": "capstone",
   "language": "python",
   "name": "python3"
  },
  "language_info": {
   "codemirror_mode": {
    "name": "ipython",
    "version": 3
   },
   "file_extension": ".py",
   "mimetype": "text/x-python",
   "name": "python",
   "nbconvert_exporter": "python",
   "pygments_lexer": "ipython3",
   "version": "3.10.18"
  }
 },
 "nbformat": 4,
 "nbformat_minor": 5
}
