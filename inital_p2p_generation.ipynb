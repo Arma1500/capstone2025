{
 "cells": [
  {
   "cell_type": "code",
   "execution_count": 2,
   "id": "aae99cd3",
   "metadata": {},
   "outputs": [
    {
     "name": "stdout",
     "output_type": "stream",
     "text": [
      "[polyscope] Backend: openGL3_glfw -- Loaded openGL version: 4.6 (Core Profile) Mesa 23.2.1-1ubuntu3.1~22.04.3\n"
     ]
    }
   ],
   "source": [
    "import open3d as o3d\n",
    "import numpy as np\n",
    "import os\n",
    "\n",
    "# from pyFM.functional import p2p_to_FM\n",
    "# from pyFM.spectral import LB\n",
    "\n",
    "import polyscope as ps\n",
    "ps.init()\n",
    "\n",
    "import meshplot as mp\n",
    "def plot_mesh(myMesh,cmap=None):\n",
    "    mp.plot(myMesh.vertlist, myMesh.facelist,c=cmap)\n",
    "    \n",
    "def double_plot(myMesh1,myMesh2,cmap1=None,cmap2=None):\n",
    "    d = mp.subplot(myMesh1.vertlist, myMesh1.facelist, c=cmap1, s=[2, 2, 0])\n",
    "    mp.subplot(myMesh2.vertlist, myMesh2.facelist, c=cmap2, s=[2, 2, 1], data=d)\n",
    "\n",
    "def visu(vertices):\n",
    "    min_coord,max_coord = np.min(vertices,axis=0,keepdims=True),np.max(vertices,axis=0,keepdims=True)\n",
    "    cmap = (vertices-min_coord)/(max_coord-min_coord)\n",
    "    return cmap"
   ]
  },
  {
   "cell_type": "code",
   "execution_count": 3,
   "id": "25c4d611",
   "metadata": {},
   "outputs": [],
   "source": [
    "mesh_1 = o3d.io.read_triangle_mesh(os.path.abspath(\"../simulation/meshes_dancer/frame_0001.ply\"))\n",
    "mesh_2 = o3d.io.read_triangle_mesh(os.path.abspath(\"../simulation/meshes_dancer/frame_0050.ply\"))\n",
    "\n",
    "mesh_1.compute_vertex_normals()\n",
    "mesh_2.compute_vertex_normals()\n",
    "\n",
    "verts_1 = np.asarray(mesh_1.vertices)\n",
    "verts_2 = np.asarray(mesh_2.vertices)\n",
    "\n",
    "o3d.visualization.draw_geometries([mesh_1] + [mesh_2])"
   ]
  },
  {
   "cell_type": "code",
   "execution_count": 7,
   "id": "d9fd385a",
   "metadata": {},
   "outputs": [],
   "source": [
    "# KDTree for mesh_2 - target mesh (pointwise goes 2 -> 1 and functional map goes 1 -> 2 if I remeber correctly)\n",
    "pcd_2 = o3d.geometry.PointCloud() # create pointcloud\n",
    "pcd_2.points = o3d.utility.Vector3dVector(verts_2) # assign verts with normals to cloud\n",
    "kdtree = o3d.geometry.KDTreeFlann(pcd_2)\n",
    "\n",
    "# search for nearest neighbour in mesh_1\n",
    "p2p_map = []\n",
    "for vert in verts_1:\n",
    "    [_, idx, _] = kdtree.search_knn_vector_3d(vert, 1) \n",
    "    p2p_map.append(idx[0])\n",
    "\n",
    "p2p_map = np.array(p2p_map)"
   ]
  },
  {
   "cell_type": "code",
   "execution_count": 10,
   "id": "326503f7",
   "metadata": {},
   "outputs": [
    {
     "name": "stdout",
     "output_type": "stream",
     "text": [
      "[0.00000000e+00 5.46003527e-06 1.09200705e-05 ... 9.99989080e-01\n",
      " 9.99994540e-01 1.00000000e+00]\n"
     ]
    },
    {
     "ename": "ValueError",
     "evalue": "'values' should be an Nx3 array",
     "output_type": "error",
     "traceback": [
      "\u001b[0;31m---------------------------------------------------------------------------\u001b[0m",
      "\u001b[0;31mValueError\u001b[0m                                Traceback (most recent call last)",
      "Cell \u001b[0;32mIn[10], line 15\u001b[0m\n\u001b[1;32m     11\u001b[0m cmap_2 \u001b[38;5;241m=\u001b[39m cmap_1[p2p_map] \u001b[38;5;66;03m# map to mesh 2\u001b[39;00m\n\u001b[1;32m     13\u001b[0m \u001b[38;5;28mprint\u001b[39m(cmap_1)\n\u001b[0;32m---> 15\u001b[0m \u001b[43mps_mesh_1\u001b[49m\u001b[38;5;241;43m.\u001b[39;49m\u001b[43madd_color_quantity\u001b[49m\u001b[43m(\u001b[49m\u001b[38;5;124;43m\"\u001b[39;49m\u001b[38;5;124;43mcmap_1\u001b[39;49m\u001b[38;5;124;43m\"\u001b[39;49m\u001b[43m,\u001b[49m\u001b[43m \u001b[49m\u001b[43mcmap_1\u001b[49m\u001b[43m,\u001b[49m\u001b[43m \u001b[49m\u001b[43menabled\u001b[49m\u001b[38;5;241;43m=\u001b[39;49m\u001b[38;5;28;43;01mTrue\u001b[39;49;00m\u001b[43m)\u001b[49m\n\u001b[1;32m     16\u001b[0m ps_mesh_2\u001b[38;5;241m.\u001b[39madd_color_quantity(\u001b[38;5;124m\"\u001b[39m\u001b[38;5;124mcmap_2\u001b[39m\u001b[38;5;124m\"\u001b[39m, cmap_2, enabled\u001b[38;5;241m=\u001b[39m\u001b[38;5;28;01mTrue\u001b[39;00m)\n\u001b[1;32m     18\u001b[0m ps\u001b[38;5;241m.\u001b[39mshow()\n",
      "File \u001b[0;32m~/anaconda3/envs/capstone/lib/python3.10/site-packages/polyscope/surface_mesh.py:230\u001b[0m, in \u001b[0;36mSurfaceMesh.add_color_quantity\u001b[0;34m(self, name, values, defined_on, param_name, image_origin, **color_args)\u001b[0m\n\u001b[1;32m    229\u001b[0m \u001b[38;5;28;01mdef\u001b[39;00m\u001b[38;5;250m \u001b[39m\u001b[38;5;21madd_color_quantity\u001b[39m(\u001b[38;5;28mself\u001b[39m, name, values, defined_on\u001b[38;5;241m=\u001b[39m\u001b[38;5;124m'\u001b[39m\u001b[38;5;124mvertices\u001b[39m\u001b[38;5;124m'\u001b[39m, param_name\u001b[38;5;241m=\u001b[39m\u001b[38;5;28;01mNone\u001b[39;00m, image_origin\u001b[38;5;241m=\u001b[39m\u001b[38;5;124m\"\u001b[39m\u001b[38;5;124mupper_left\u001b[39m\u001b[38;5;124m\"\u001b[39m, \u001b[38;5;241m*\u001b[39m\u001b[38;5;241m*\u001b[39mcolor_args):\n\u001b[0;32m--> 230\u001b[0m     \u001b[38;5;28;01mif\u001b[39;00m defined_on \u001b[38;5;241m!=\u001b[39m \u001b[38;5;124m'\u001b[39m\u001b[38;5;124mtexture\u001b[39m\u001b[38;5;124m'\u001b[39m \u001b[38;5;129;01mand\u001b[39;00m (\u001b[38;5;28mlen\u001b[39m(values\u001b[38;5;241m.\u001b[39mshape) \u001b[38;5;241m!=\u001b[39m \u001b[38;5;241m2\u001b[39m \u001b[38;5;129;01mor\u001b[39;00m values\u001b[38;5;241m.\u001b[39mshape[\u001b[38;5;241m1\u001b[39m] \u001b[38;5;241m!=\u001b[39m \u001b[38;5;241m3\u001b[39m): \u001b[38;5;28;01mraise\u001b[39;00m \u001b[38;5;167;01mValueError\u001b[39;00m(\u001b[38;5;124m\"\u001b[39m\u001b[38;5;124m'\u001b[39m\u001b[38;5;124mvalues\u001b[39m\u001b[38;5;124m'\u001b[39m\u001b[38;5;124m should be an Nx3 array\u001b[39m\u001b[38;5;124m\"\u001b[39m)\n\u001b[1;32m    232\u001b[0m     \u001b[38;5;28;01mif\u001b[39;00m defined_on \u001b[38;5;241m==\u001b[39m \u001b[38;5;124m'\u001b[39m\u001b[38;5;124mvertices\u001b[39m\u001b[38;5;124m'\u001b[39m:\n\u001b[1;32m    233\u001b[0m         \u001b[38;5;28;01mif\u001b[39;00m values\u001b[38;5;241m.\u001b[39mshape[\u001b[38;5;241m0\u001b[39m] \u001b[38;5;241m!=\u001b[39m \u001b[38;5;28mself\u001b[39m\u001b[38;5;241m.\u001b[39mn_vertices(): \u001b[38;5;28;01mraise\u001b[39;00m \u001b[38;5;167;01mValueError\u001b[39;00m(\u001b[38;5;124m\"\u001b[39m\u001b[38;5;124m'\u001b[39m\u001b[38;5;124mvalues\u001b[39m\u001b[38;5;124m'\u001b[39m\u001b[38;5;124m should be a length n_vertices array\u001b[39m\u001b[38;5;124m\"\u001b[39m)\n",
      "\u001b[0;31mValueError\u001b[0m: 'values' should be an Nx3 array"
     ]
    }
   ],
   "source": [
    "faces_1 = np.asarray(mesh_1.triangles)\n",
    "vertices_1 = np.asarray(mesh_1.vertices)\n",
    "ps_mesh_1 = ps.register_surface_mesh(\"mesh_1\", vertices_1, faces_1)\n",
    "\n",
    "faces_2 = np.asarray(mesh_2.triangles)\n",
    "vertices_2 = np.asarray(mesh_2.vertices)\n",
    "ps_mesh_2 = ps.register_surface_mesh(\"mesh_2\", vertices_2, faces_2)\n",
    "\n",
    "# cmaps\n",
    "cmap_1 = np.linspace(0,1,len(vertices_1)) # gradient for mesh_1\n",
    "cmap_2 = cmap_1[p2p_map] # map to mesh 2\n",
    "\n",
    "print(cmap_1)\n",
    "\n",
    "ps_mesh_1.add_color_quantity(\"cmap_1\", cmap_1, enabled=True)\n",
    "ps_mesh_2.add_color_quantity(\"cmap_2\", cmap_2, enabled=True)\n",
    "\n",
    "ps.show()\n",
    "ps.remove_all_structures() # clear the whole scene"
   ]
  },
  {
   "cell_type": "code",
   "execution_count": null,
   "id": "e3b7c440",
   "metadata": {},
   "outputs": [],
   "source": [
    "k_eigs = 50 # for now, will check what the examples use\n",
    "eigvects_1, eigvals_1 = LB(mesh_1, k_eigs)\n",
    "eigvects_2, eigvals_2 = LB(mesh_2, k_eigs)\n",
    "\n",
    "C_init = p2p_to_FM(p2p_map, eigvects_1, eigvects_2)\n",
    "\n",
    "cmap1 = visu(mesh_1.vertlist); cmap2 = cmap1[p2p_map]\n",
    "double_plot(mesh_1, mesh_2, cmap1, cmap2)"
   ]
  }
 ],
 "metadata": {
  "kernelspec": {
   "display_name": "capstone",
   "language": "python",
   "name": "python3"
  },
  "language_info": {
   "codemirror_mode": {
    "name": "ipython",
    "version": 3
   },
   "file_extension": ".py",
   "mimetype": "text/x-python",
   "name": "python",
   "nbconvert_exporter": "python",
   "pygments_lexer": "ipython3",
   "version": "3.10.18"
  }
 },
 "nbformat": 4,
 "nbformat_minor": 5
}
