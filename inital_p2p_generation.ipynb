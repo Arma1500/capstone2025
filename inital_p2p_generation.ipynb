{
 "cells": [
  {
   "cell_type": "code",
   "execution_count": 1,
   "id": "aae99cd3",
   "metadata": {},
   "outputs": [
    {
     "name": "stdout",
     "output_type": "stream",
     "text": [
      "Jupyter environment detected. Enabling Open3D WebVisualizer.\n",
      "[Open3D INFO] WebRTC GUI backend enabled.\n",
      "[Open3D INFO] WebRTCWindowSystem: HTTP handshake server disabled.\n",
      "[polyscope] Backend: openGL3_glfw -- Loaded openGL version: 4.6 (Core Profile) Mesa 23.2.1-1ubuntu3.1~22.04.3\n"
     ]
    }
   ],
   "source": [
    "import matplotlib.pyplot as plt\n",
    "import open3d as o3d\n",
    "import numpy as np\n",
    "import os\n",
    "\n",
    "import pyFM.spectral as LB\n",
    "from pyFM.mesh import TriMesh\n",
    "\n",
    "import polyscope as ps\n",
    "ps.init()\n",
    "\n",
    "import meshplot as mp\n",
    "def plot_mesh(myMesh,cmap=None):\n",
    "    mp.plot(myMesh.vertlist, myMesh.facelist,c=cmap)\n",
    "    \n",
    "def double_plot_o3d(myMesh1,myMesh2,cmap1=None,cmap2=None):\n",
    "    vertlist_1 = np.asarray(myMesh1.vertices)\n",
    "    facelist_1 = np.asarray(myMesh1.triangles)\n",
    "\n",
    "    vertlist_2 = np.asarray(myMesh2.vertices)\n",
    "    facelist_2 = np.asarray(myMesh2.triangles)\n",
    "    \n",
    "    d = mp.subplot(vertlist_1, facelist_1, c=cmap1, s=[2, 2, 0])\n",
    "    mp.subplot(vertlist_2, facelist_2, c=cmap2, s=[2, 2, 1], data=d)\n",
    "\n",
    "def visu(vertices):\n",
    "    min_coord,max_coord = np.min(vertices,axis=0,keepdims=True),np.max(vertices,axis=0,keepdims=True)\n",
    "    cmap = (vertices-min_coord)/(max_coord-min_coord)\n",
    "    return cmap"
   ]
  },
  {
   "cell_type": "code",
   "execution_count": 5,
   "id": "25c4d611",
   "metadata": {},
   "outputs": [],
   "source": [
    "mesh_1 = o3d.io.read_triangle_mesh(os.path.abspath(\"../simulation/meshes_dancer_flattened/frame_0001.ply\"))\n",
    "mesh_2 = o3d.io.read_triangle_mesh(os.path.abspath(\"../simulation/meshes_dancer_flattened/frame_0002.ply\"))\n",
    "\n",
    "mesh_1.compute_vertex_normals()\n",
    "mesh_2.compute_vertex_normals()\n",
    "\n",
    "verts_1 = np.asarray(mesh_1.vertices)\n",
    "verts_2 = np.asarray(mesh_2.vertices)\n",
    "\n",
    "faces_1 = np.asarray(mesh_1.triangles)\n",
    "vertices_1 = np.asarray(mesh_1.vertices)\n",
    "ps_mesh_1 = ps.register_surface_mesh(\"mesh_1\", vertices_1, faces_1)\n",
    "\n",
    "faces_2 = np.asarray(mesh_2.triangles)\n",
    "vertices_2 = np.asarray(mesh_2.vertices)\n",
    "ps_mesh_2 = ps.register_surface_mesh(\"mesh_2\", vertices_2, faces_2)\n",
    "ps.show()\n",
    "ps.remove_all_structures() # clear the whole scene\n",
    "\n",
    "#o3d.visualization.draw_geometries([mesh_1] + [mesh_2])"
   ]
  },
  {
   "cell_type": "markdown",
   "id": "16d7e4eb",
   "metadata": {},
   "source": [
    "## KDTREE Nearest Neighbour Seach with Open3D"
   ]
  },
  {
   "cell_type": "code",
   "execution_count": null,
   "id": "d9fd385a",
   "metadata": {},
   "outputs": [],
   "source": [
    "# KDTree for mesh_1 -> mesh_2\n",
    "pcd_2 = o3d.geometry.PointCloud() # create pointcloud\n",
    "pcd_2.points = o3d.utility.Vector3dVector(verts_2) # assign verts with normals to cloud\n",
    "kdtree = o3d.geometry.KDTreeFlann(pcd_2)\n",
    "\n",
    "# search for nearest neighbour in mesh_1\n",
    "p2p_map = []\n",
    "for vert in verts_1:\n",
    "    [_, idx, _] = kdtree.search_knn_vector_3d(vert, 1) \n",
    "    p2p_map.append(idx[0])\n",
    "\n",
    "p2p_map = np.array(p2p_map)"
   ]
  },
  {
   "cell_type": "markdown",
   "id": "9ee9cf37",
   "metadata": {},
   "source": [
    "Why is the map showing up wrong"
   ]
  },
  {
   "cell_type": "code",
   "execution_count": 7,
   "id": "55ad800a",
   "metadata": {},
   "outputs": [
    {
     "data": {
      "application/vnd.jupyter.widget-view+json": {
       "model_id": "ec38fcd631da4b608069908dc95945c2",
       "version_major": 2,
       "version_minor": 0
      },
      "text/plain": [
       "HBox(children=(Output(), Output()))"
      ]
     },
     "metadata": {},
     "output_type": "display_data"
    },
    {
     "data": {
      "application/vnd.jupyter.widget-view+json": {
       "model_id": "88d708dbf93e42629956bcda9683b171",
       "version_major": 2,
       "version_minor": 0
      },
      "text/plain": [
       "HBox(children=(Output(), Output()))"
      ]
     },
     "metadata": {},
     "output_type": "display_data"
    }
   ],
   "source": [
    "cmap_1 = visu(verts_1)\n",
    "cmap_2 = cmap_1[p2p_map]\n",
    "\n",
    "double_plot_o3d(mesh_1, mesh_2, cmap_1,cmap_2)"
   ]
  },
  {
   "cell_type": "markdown",
   "id": "97b4e416",
   "metadata": {},
   "source": [
    "was just trying different ways to visualise in polyscope below (not working well) "
   ]
  },
  {
   "cell_type": "code",
   "execution_count": 91,
   "id": "326503f7",
   "metadata": {},
   "outputs": [],
   "source": [
    "faces_1 = np.asarray(mesh_1.triangles)\n",
    "vertices_1 = np.asarray(mesh_1.vertices)\n",
    "ps_mesh_1 = ps.register_surface_mesh(\"mesh_1\", vertices_1, faces_1)\n",
    "\n",
    "faces_2 = np.asarray(mesh_2.triangles)\n",
    "vertices_2 = np.asarray(mesh_2.vertices)\n",
    "ps_mesh_2 = ps.register_surface_mesh(\"mesh_2\", vertices_2, faces_2)\n",
    "\n",
    "# cmaps\n",
    "# cmap_1 = (np.linspace(0,1,len(vertices_1))).reshape(-1,1) # gradient for mesh_1\n",
    "# cmap_1 = np.repeat(cmap_1, 3, axis=1) \n",
    "# print(cmap_1)\n",
    "\n",
    "# cmap_2 = np.zeros((len(vertices_2), 3))\n",
    "# for i, j in enumerate(p2p_map):\n",
    "#     cmap_2[j] = cmap_1[i]   # assign color of vertex i in mesh1 to vertex j in mesh2\n",
    "# ------------------------------------------------------------------------------------------\n",
    "cmap = plt.get_cmap(\"jet\") # RGB ALpha colour map from matplotlib\n",
    "# assign scalar values to mesh1\n",
    "scalars_1 = np.linspace(0, 1, len(verts_1))\n",
    "\n",
    "# map mesh1 scalars into mesh2 using correspondence\n",
    "scalars_2 = np.zeros(len(verts_2))   # default zero for all verts\n",
    "scalars_2[p2p_map] = scalars_1       # assign scalars where correspondence exists\n",
    "\n",
    "cmap_1 = cmap(scalars_1)[:,:3]\n",
    "cmap_2 = cmap(scalars_2)[:,:3]\n",
    "\n",
    "ps_mesh_1.add_color_quantity(\"cmap_1\", cmap_1, enabled=True)\n",
    "ps_mesh_2.add_color_quantity(\"cmap_2\", cmap_2, enabled=True)\n",
    "\n",
    "ps.show()\n",
    "ps.remove_all_structures() # clear the whole scene"
   ]
  },
  {
   "cell_type": "code",
   "execution_count": 8,
   "id": "0e7c9f52",
   "metadata": {},
   "outputs": [],
   "source": [
    "num_samples = 100\n",
    "sample_idx = np.random.choice(len(vertices_1), num_samples, replace=False)\n",
    "\n",
    "edges = []\n",
    "points = []\n",
    "\n",
    "# stack both meshes in one point cloud so we can draw edges between them\n",
    "points = np.vstack([vertices_1, vertices_2])\n",
    "\n",
    "# edges connect vertex i in mesh1 → corresponding vertex in mesh2\n",
    "for i in sample_idx:\n",
    "    edges.append([i, len(vertices_1) + p2p_map[i]])\n",
    "\n",
    "edges = np.array(edges)\n",
    "\n",
    "ps.register_curve_network(\"Correspondences\", points, edges, radius=0.002, color=(0,0,0))\n",
    "ps.show()\n",
    "ps.remove_all_structures() # clear the whole scene"
   ]
  },
  {
   "cell_type": "markdown",
   "id": "7497c2dc",
   "metadata": {},
   "source": [
    "## Converting to use in pyFM\n",
    "\n",
    "1. convert meshes to TriMesh\n",
    "2. use k nearest neighbour search to find the maps\n",
    "3. find eigvects and assign to the mesh\n",
    "4. convert to spectral map to be used in ConsistentZoomout\n",
    "5. save to maps_dict\n",
    "\n",
    "do I need to save the map dicts in a file I can load later?"
   ]
  },
  {
   "cell_type": "code",
   "execution_count": null,
   "id": "e3b7c440",
   "metadata": {},
   "outputs": [
    {
     "ename": "AttributeError",
     "evalue": "'open3d.cpu.pybind.geometry.TriangleMesh' object has no attribute 'eigenvectors'",
     "output_type": "error",
     "traceback": [
      "\u001b[0;31m---------------------------------------------------------------------------\u001b[0m",
      "\u001b[0;31mAttributeError\u001b[0m                            Traceback (most recent call last)",
      "Cell \u001b[0;32mIn[14], line 6\u001b[0m\n\u001b[1;32m      2\u001b[0m k_eigs \u001b[38;5;241m=\u001b[39m \u001b[38;5;241m150\u001b[39m \u001b[38;5;66;03m# the pyFM examples use 150 when they load their mesh\u001b[39;00m\n\u001b[1;32m      3\u001b[0m \u001b[38;5;66;03m# eigvects_1, eigvals_1 = LB(mesh_1, k_eigs)\u001b[39;00m\n\u001b[1;32m      4\u001b[0m \u001b[38;5;66;03m# eigvects_2, eigvals_2 = LB(mesh_2, k_eigs)\u001b[39;00m\n\u001b[0;32m----> 6\u001b[0m C_init \u001b[38;5;241m=\u001b[39m \u001b[43mLB\u001b[49m\u001b[38;5;241;43m.\u001b[39;49m\u001b[43mmesh_p2p_to_FM\u001b[49m\u001b[43m(\u001b[49m\u001b[43mp2p_map\u001b[49m\u001b[43m,\u001b[49m\u001b[43m \u001b[49m\u001b[43mmesh_1\u001b[49m\u001b[43m,\u001b[49m\u001b[43m \u001b[49m\u001b[43mmesh_2\u001b[49m\u001b[43m,\u001b[49m\u001b[43m \u001b[49m\u001b[43mdims\u001b[49m\u001b[38;5;241;43m=\u001b[39;49m\u001b[43mK\u001b[49m\u001b[43m)\u001b[49m\n\u001b[1;32m      8\u001b[0m cmap1 \u001b[38;5;241m=\u001b[39m visu(mesh_1\u001b[38;5;241m.\u001b[39mvertlist); cmap2 \u001b[38;5;241m=\u001b[39m cmap1[p2p_map]\n\u001b[1;32m      9\u001b[0m double_plot(mesh_1, mesh_2, cmap1, cmap2)\n",
      "File \u001b[0;32m~/anaconda3/envs/capstone/lib/python3.10/site-packages/pyFM/spectral/convert.py:95\u001b[0m, in \u001b[0;36mmesh_p2p_to_FM\u001b[0;34m(p2p_21, mesh1, mesh2, dims, subsample)\u001b[0m\n\u001b[1;32m     91\u001b[0m     k1, k2 \u001b[38;5;241m=\u001b[39m dims\n\u001b[1;32m     93\u001b[0m \u001b[38;5;28;01mif\u001b[39;00m subsample \u001b[38;5;129;01mis\u001b[39;00m \u001b[38;5;28;01mNone\u001b[39;00m:\n\u001b[1;32m     94\u001b[0m     \u001b[38;5;28;01mreturn\u001b[39;00m p2p_to_FM(\n\u001b[0;32m---> 95\u001b[0m         p2p_21, \u001b[43mmesh1\u001b[49m\u001b[38;5;241;43m.\u001b[39;49m\u001b[43meigenvectors\u001b[49m[:, :k1], mesh2\u001b[38;5;241m.\u001b[39meigenvectors[:, :k2], A2\u001b[38;5;241m=\u001b[39mmesh2\u001b[38;5;241m.\u001b[39mA\n\u001b[1;32m     96\u001b[0m     )\n\u001b[1;32m     98\u001b[0m sub1, sub2 \u001b[38;5;241m=\u001b[39m subsample\n\u001b[1;32m     99\u001b[0m \u001b[38;5;28;01mreturn\u001b[39;00m p2p_to_FM(\n\u001b[1;32m    100\u001b[0m     p2p_21, mesh1\u001b[38;5;241m.\u001b[39meigenvectors[sub1, :k1], mesh2\u001b[38;5;241m.\u001b[39meigenvectors[sub2, :k2], A2\u001b[38;5;241m=\u001b[39m\u001b[38;5;28;01mNone\u001b[39;00m\n\u001b[1;32m    101\u001b[0m )\n",
      "\u001b[0;31mAttributeError\u001b[0m: 'open3d.cpu.pybind.geometry.TriangleMesh' object has no attribute 'eigenvectors'"
     ]
    }
   ],
   "source": [
    "K = 30 # dimensions used in the pyFM examples when they convert to functional maps\n",
    "k_eigs = 150 # the pyFM examples use 150 when they load their mesh\n",
    "# eigvects_1, eigvals_1 = LB(mesh_1, k_eigs)\n",
    "# eigvects_2, eigvals_2 = LB(mesh_2, k_eigs)\n",
    "\n",
    "C_init = LB.mesh_p2p_to_FM(p2p_map, mesh_1, mesh_2, dims=K)\n",
    "\n",
    "cmap1 = visu(mesh_1.vertlist); cmap2 = cmap1[p2p_map]\n",
    "double_plot_o3d(mesh_1, mesh_2, cmap1, cmap2)"
   ]
  },
  {
   "cell_type": "code",
   "execution_count": null,
   "id": "a6f09c61",
   "metadata": {},
   "outputs": [],
   "source": [
    "# KDTREE SEARCH ON pyFM TriMesh instead of the open3d TriangleMesh \n",
    "\n",
    "import open3d as o3d\n",
    "import numpy as np\n",
    "from pyFM.mesh import TriMesh\n",
    "\n",
    "# pyFM mesh\n",
    "mesh_pyfm = TriMesh(vertices, faces)\n",
    "\n",
    "# Build Open3D PointCloud for KDTree\n",
    "pcd = o3d.geometry.PointCloud()\n",
    "pcd.points = o3d.utility.Vector3dVector(mesh_pyfm.vertlist)\n",
    "\n",
    "kdtree = o3d.geometry.KDTreeFlann(pcd)\n",
    "\n",
    "# Example: nearest neighbour search\n",
    "query_point = mesh_pyfm.vertlist[0]\n",
    "_, idx, _ = kdtree.search_knn_vector_3d(query_point, 1)\n",
    "\n",
    "print(\"Closest index:\", idx[0])\n",
    "\n",
    "# wait it this one even right??????????????????????/"
   ]
  }
 ],
 "metadata": {
  "kernelspec": {
   "display_name": "capstone",
   "language": "python",
   "name": "python3"
  },
  "language_info": {
   "codemirror_mode": {
    "name": "ipython",
    "version": 3
   },
   "file_extension": ".py",
   "mimetype": "text/x-python",
   "name": "python",
   "nbconvert_exporter": "python",
   "pygments_lexer": "ipython3",
   "version": "3.10.18"
  }
 },
 "nbformat": 4,
 "nbformat_minor": 5
}
