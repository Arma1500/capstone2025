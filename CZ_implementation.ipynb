{
 "cells": [
  {
   "cell_type": "code",
   "execution_count": 1,
   "id": "4a086ea4",
   "metadata": {},
   "outputs": [
    {
     "name": "stdout",
     "output_type": "stream",
     "text": [
      "Jupyter environment detected. Enabling Open3D WebVisualizer.\n",
      "[Open3D INFO] WebRTC GUI backend enabled.\n",
      "[Open3D INFO] WebRTCWindowSystem: HTTP handshake server disabled.\n"
     ]
    }
   ],
   "source": [
    "import matplotlib.pyplot as plt\n",
    "import open3d as o3d\n",
    "import numpy as np\n",
    "import os\n",
    "\n",
    "import pyFM.spectral as spectral\n",
    "from pyFM.mesh import TriMesh\n",
    "\n",
    "from tqdm.auto import tqdm\n",
    "import meshplot as mp\n",
    "\n",
    "def double_plot_o3d(myMesh1,myMesh2,cmap1=None,cmap2=None):\n",
    "    vertlist_1 = np.asarray(myMesh1.vertices)\n",
    "    facelist_1 = np.asarray(myMesh1.triangles)\n",
    "\n",
    "    vertlist_2 = np.asarray(myMesh2.vertices)\n",
    "    facelist_2 = np.asarray(myMesh2.triangles)\n",
    "    \n",
    "    d = mp.subplot(vertlist_1, facelist_1, c=cmap1, s=[2, 2, 0])\n",
    "    mp.subplot(vertlist_2, facelist_2, c=cmap2, s=[2, 2, 1], data=d)\n",
    "\n",
    "def plot_mesh(myMesh,cmap=None):\n",
    "    mp.plot(myMesh.vertlist, myMesh.facelist,c=cmap)\n",
    "    \n",
    "def double_plot(myMesh1,myMesh2,cmap1=None,cmap2=None):\n",
    "    d = mp.subplot(myMesh1.vertlist, myMesh1.facelist, c=cmap1, s=[2, 2, 0])\n",
    "    mp.subplot(myMesh2.vertlist, myMesh2.facelist, c=cmap2, s=[2, 2, 1], data=d)\n",
    "\n",
    "def visu(vertices):\n",
    "    min_coord,max_coord = np.min(vertices,axis=0,keepdims=True),np.max(vertices,axis=0,keepdims=True)\n",
    "    cmap = (vertices-min_coord)/(max_coord-min_coord)\n",
    "    return cmap"
   ]
  },
  {
   "cell_type": "markdown",
   "id": "f587f362",
   "metadata": {},
   "source": [
    "## Data Pre-Processing ____________________________________\n",
    "(need to change this back to just doing it with o3d rather than TriMesh)\n",
    "1. Load Meshes\n",
    "2. Generate Intial Point to Point Maps \n",
    "3. Convert to Functional Maps"
   ]
  },
  {
   "cell_type": "code",
   "execution_count": 46,
   "id": "fb8101d1",
   "metadata": {},
   "outputs": [
    {
     "data": {
      "application/vnd.jupyter.widget-view+json": {
       "model_id": "174d8242381440cb999496b73be0b0c5",
       "version_major": 2,
       "version_minor": 0
      },
      "text/plain": [
       "  0%|          | 0/20 [00:00<?, ?it/s]"
      ]
     },
     "metadata": {},
     "output_type": "display_data"
    },
    {
     "data": {
      "application/vnd.jupyter.widget-view+json": {
       "model_id": "775ada74292943c39af84d9b533df6ea",
       "version_major": 2,
       "version_minor": 0
      },
      "text/plain": [
       "  0%|          | 0/20 [00:00<?, ?it/s]"
      ]
     },
     "metadata": {},
     "output_type": "display_data"
    }
   ],
   "source": [
    "path = os.path.abspath('../simulation/meshes_dancer')\n",
    "\n",
    "start_frame = 1\n",
    "end_frame = 20\n",
    "frames = [str(i).zfill(4) for i in range(start_frame, end_frame + 1)]\n",
    "\n",
    "# load meshes\n",
    "mesh_list_o3d = [o3d.io.read_triangle_mesh(f'{path}/frame_{frame}.ply') for frame in tqdm(frames)]\n",
    "\n",
    "mesh_list = []\n",
    "for mesh in tqdm(mesh_list_o3d):\n",
    "    \n",
    "    mesh_simplified = mesh.simplify_quadric_decimation(target_number_of_triangles=3000 * 2)  # ~2 faces per vertex\n",
    "    verts, faces = np.asarray(mesh_simplified.vertices), np.asarray(mesh_simplified.triangles)\n",
    "    \n",
    "    mesh_pyfm = TriMesh(verts, faces, area_normalize=True, center=True)\n",
    "    mesh_pyfm.process(k=150, intrinsic=True)\n",
    "    mesh_list.append(mesh_pyfm)\n"
   ]
  },
  {
   "cell_type": "code",
   "execution_count": 47,
   "id": "be05c2f4",
   "metadata": {},
   "outputs": [
    {
     "data": {
      "application/vnd.jupyter.widget-view+json": {
       "model_id": "43d1511fadd3442f8c197acd06a49082",
       "version_major": 2,
       "version_minor": 0
      },
      "text/plain": [
       "HBox(children=(Output(), Output()))"
      ]
     },
     "metadata": {},
     "output_type": "display_data"
    },
    {
     "data": {
      "application/vnd.jupyter.widget-view+json": {
       "model_id": "33be4f401f66454fb94b9b87ef24afda",
       "version_major": 2,
       "version_minor": 0
      },
      "text/plain": [
       "HBox(children=(Output(), Output()))"
      ]
     },
     "metadata": {},
     "output_type": "display_data"
    }
   ],
   "source": [
    "def initial_p2p_map(verts_i, verts_j):\n",
    "\n",
    "    pcd_j = o3d.geometry.PointCloud() # create pointcloud\n",
    "    pcd_j.points = o3d.utility.Vector3dVector(verts_j) # assign verts with normals to cloud\n",
    "\n",
    "    kdtree = o3d.geometry.KDTreeFlann(pcd_j)\n",
    "    \n",
    "    p2p_ji = []\n",
    "    for vert in verts_i:\n",
    "        [_, idx, _] = kdtree.search_knn_vector_3d(vert, 1) \n",
    "        p2p_ji.append(idx[0])\n",
    "\n",
    "    p2p_ji = np.array(p2p_ji)\n",
    "    return p2p_ji\n",
    "\n",
    "# Test Display\n",
    "mesh_1 = mesh_list_o3d[0]; mesh_2 = mesh_list_o3d[1]\n",
    "verts_1 = np.asarray(mesh_1.vertices)\n",
    "verts_2 = np.asarray(mesh_2.vertices)\n",
    "\n",
    "p2p_map = initial_p2p_map(verts_1,verts_2)\n",
    "cmap_1 = visu(verts_1)\n",
    "cmap_2 = cmap_1[p2p_map]\n",
    "\n",
    "double_plot_o3d(mesh_1, mesh_2, cmap_1,cmap_2)"
   ]
  },
  {
   "cell_type": "code",
   "execution_count": 50,
   "id": "dd9d0148",
   "metadata": {},
   "outputs": [
    {
     "data": {
      "application/vnd.jupyter.widget-view+json": {
       "model_id": "6057fd96e8b6465a840d459ba7f8f8a3",
       "version_major": 2,
       "version_minor": 0
      },
      "text/plain": [
       "  0%|          | 0/20 [00:00<?, ?it/s]"
      ]
     },
     "metadata": {},
     "output_type": "display_data"
    }
   ],
   "source": [
    "K = 30 # intial dimensions\n",
    "maps_dict = {}\n",
    "n_meshes = len(mesh_list)\n",
    "\n",
    "for i in tqdm(range(n_meshes)):\n",
    "    for j in range(n_meshes):\n",
    "        if i == j: \n",
    "            continue # skip self-maps\n",
    "\n",
    "        mesh_i, mesh_j = mesh_list[i], mesh_list[j]\n",
    "\n",
    "        verts_i, verts_j = np.asarray(mesh_i.vertices), np.asarray(mesh_j.vertices)\n",
    "        p2p_ji = initial_p2p_map(verts_j, verts_i)\n",
    "\n",
    "        # Convert to functional map\n",
    "        FM_ij = spectral.mesh_p2p_to_FM(p2p_ji, mesh_i, mesh_j, dims=K)\n",
    "    \n",
    "    # Populate the dictionary\n",
    "    maps_dict[(i, j)] = FM_ij"
   ]
  },
  {
   "cell_type": "markdown",
   "id": "15277414",
   "metadata": {},
   "source": [
    "## Consistent Zoomout _______________________________________________\n",
    "1. Create Functional Map Network (FMN)\n",
    "2. Run ConsistentZoomout refinement\n",
    "3. Visualise Results by converting refined maps back to point to point maps"
   ]
  },
  {
   "cell_type": "code",
   "execution_count": 27,
   "id": "ca67a10d",
   "metadata": {},
   "outputs": [
    {
     "name": "stdout",
     "output_type": "stream",
     "text": [
      "Setting 20 edges on 20 nodes.\n",
      "Computing a 1000-sized subsample for each mesh\n"
     ]
    },
    {
     "data": {
      "application/vnd.jupyter.widget-view+json": {
       "model_id": "33c8658676354fc3a269d6b5e60bb1cf",
       "version_major": 2,
       "version_minor": 0
      },
      "text/plain": [
       "  0%|          | 0/24 [00:00<?, ?it/s]"
      ]
     },
     "metadata": {},
     "output_type": "display_data"
    },
    {
     "name": "stderr",
     "output_type": "stream",
     "text": [
      "/home/humense/anaconda3/envs/capstone/lib/python3.10/site-packages/numpy/_core/fromnumeric.py:3596: RuntimeWarning: Mean of empty slice.\n",
      "  return _methods._mean(a, axis=axis, dtype=dtype,\n",
      "/home/humense/anaconda3/envs/capstone/lib/python3.10/site-packages/numpy/_core/_methods.py:138: RuntimeWarning: invalid value encountered in scalar divide\n",
      "  ret = ret.dtype.type(ret / rcount)\n"
     ]
    },
    {
     "ename": "RuntimeError",
     "evalue": "Factor is exactly singular",
     "output_type": "error",
     "traceback": [
      "\u001b[0;31m---------------------------------------------------------------------------\u001b[0m",
      "\u001b[0;31mRuntimeError\u001b[0m                              Traceback (most recent call last)",
      "Cell \u001b[0;32mIn[27], line 8\u001b[0m\n\u001b[1;32m      4\u001b[0m fmn_model \u001b[38;5;241m=\u001b[39m FMN(mesh_list, maps_dict\u001b[38;5;241m.\u001b[39mcopy())\n\u001b[1;32m      5\u001b[0m \u001b[38;5;66;03m#fmn_model.compute_CCLB(m=20)\u001b[39;00m\n\u001b[1;32m      6\u001b[0m \n\u001b[1;32m      7\u001b[0m \u001b[38;5;66;03m# Run Consistent Zoomout\u001b[39;00m\n\u001b[0;32m----> 8\u001b[0m \u001b[43mfmn_model\u001b[49m\u001b[38;5;241;43m.\u001b[39;49m\u001b[43mzoomout_refine\u001b[49m\u001b[43m(\u001b[49m\u001b[43mnit\u001b[49m\u001b[38;5;241;43m=\u001b[39;49m\u001b[38;5;241;43m25\u001b[39;49m\u001b[43m,\u001b[49m\u001b[43m \u001b[49m\u001b[43mstep\u001b[49m\u001b[38;5;241;43m=\u001b[39;49m\u001b[38;5;241;43m2\u001b[39;49m\u001b[43m,\u001b[49m\u001b[43m \u001b[49m\u001b[43msubsample\u001b[49m\u001b[38;5;241;43m=\u001b[39;49m\u001b[38;5;241;43m1000\u001b[39;49m\u001b[43m,\u001b[49m\u001b[43m \u001b[49m\u001b[43misometric\u001b[49m\u001b[38;5;241;43m=\u001b[39;49m\u001b[38;5;28;43;01mTrue\u001b[39;49;00m\u001b[43m,\u001b[49m\u001b[43m \u001b[49m\u001b[43mweight_type\u001b[49m\u001b[38;5;241;43m=\u001b[39;49m\u001b[38;5;124;43m'\u001b[39;49m\u001b[38;5;124;43micsm\u001b[39;49m\u001b[38;5;124;43m'\u001b[39;49m\u001b[43m,\u001b[49m\n\u001b[1;32m      9\u001b[0m \u001b[43m                    \u001b[49m\u001b[43mM_init\u001b[49m\u001b[38;5;241;43m=\u001b[39;49m\u001b[38;5;28;43;01mNone\u001b[39;49;00m\u001b[43m,\u001b[49m\u001b[43m \u001b[49m\u001b[43mcclb_ratio\u001b[49m\u001b[38;5;241;43m=\u001b[39;49m\u001b[38;5;241;43m.9\u001b[39;49m\u001b[43m,\u001b[49m\u001b[43m \u001b[49m\u001b[43mn_jobs\u001b[49m\u001b[38;5;241;43m=\u001b[39;49m\u001b[38;5;241;43m1\u001b[39;49m\u001b[43m,\u001b[49m\u001b[43m \u001b[49m\u001b[43mequals_id\u001b[49m\u001b[38;5;241;43m=\u001b[39;49m\u001b[38;5;28;43;01mFalse\u001b[39;49;00m\u001b[43m,\u001b[49m\n\u001b[1;32m     10\u001b[0m \u001b[43m                    \u001b[49m\u001b[43mverbose\u001b[49m\u001b[38;5;241;43m=\u001b[39;49m\u001b[38;5;28;43;01mTrue\u001b[39;49;00m\u001b[43m)\u001b[49m\n",
      "File \u001b[0;32m~/anaconda3/envs/capstone/lib/python3.10/site-packages/pyFM/FMN/FMN.py:750\u001b[0m, in \u001b[0;36mFMN.zoomout_refine\u001b[0;34m(self, nit, step, subsample, isometric, weight_type, M_init, cclb_ratio, n_jobs, equals_id, verbose)\u001b[0m\n\u001b[1;32m    747\u001b[0m \u001b[38;5;66;03m# If not the last iteration\u001b[39;00m\n\u001b[1;32m    748\u001b[0m \u001b[38;5;28;01mif\u001b[39;00m i \u001b[38;5;241m<\u001b[39m nit \u001b[38;5;241m-\u001b[39m \u001b[38;5;241m1\u001b[39m:\n\u001b[0;32m--> 750\u001b[0m     \u001b[38;5;28;43mself\u001b[39;49m\u001b[38;5;241;43m.\u001b[39;49m\u001b[43mzoomout_iteration\u001b[49m\u001b[43m(\u001b[49m\n\u001b[1;32m    751\u001b[0m \u001b[43m        \u001b[49m\u001b[43mm_cclb\u001b[49m\u001b[43m,\u001b[49m\n\u001b[1;32m    752\u001b[0m \u001b[43m        \u001b[49m\u001b[38;5;28;43mself\u001b[39;49m\u001b[38;5;241;43m.\u001b[39;49m\u001b[43mM\u001b[49m\u001b[43m,\u001b[49m\n\u001b[1;32m    753\u001b[0m \u001b[43m        \u001b[49m\u001b[43mnew_M\u001b[49m\u001b[43m,\u001b[49m\n\u001b[1;32m    754\u001b[0m \u001b[43m        \u001b[49m\u001b[43mweight_type\u001b[49m\u001b[38;5;241;43m=\u001b[39;49m\u001b[43mweight_type\u001b[49m\u001b[43m,\u001b[49m\n\u001b[1;32m    755\u001b[0m \u001b[43m        \u001b[49m\u001b[43mequals_id\u001b[49m\u001b[38;5;241;43m=\u001b[39;49m\u001b[43mequals_id\u001b[49m\u001b[43m,\u001b[49m\n\u001b[1;32m    756\u001b[0m \u001b[43m        \u001b[49m\u001b[43mn_jobs\u001b[49m\u001b[38;5;241;43m=\u001b[39;49m\u001b[43mn_jobs\u001b[49m\u001b[43m,\u001b[49m\n\u001b[1;32m    757\u001b[0m \u001b[43m        \u001b[49m\u001b[43mcomplete\u001b[49m\u001b[38;5;241;43m=\u001b[39;49m\u001b[38;5;129;43;01mnot\u001b[39;49;00m\u001b[43m \u001b[49m\u001b[43muse_sub\u001b[49m\u001b[43m,\u001b[49m\n\u001b[1;32m    758\u001b[0m \u001b[43m    \u001b[49m\u001b[43m)\u001b[49m\n\u001b[1;32m    760\u001b[0m \u001b[38;5;66;03m# Last iteration\u001b[39;00m\n\u001b[1;32m    761\u001b[0m \u001b[38;5;28;01melse\u001b[39;00m:\n\u001b[1;32m    762\u001b[0m     \u001b[38;5;28mself\u001b[39m\u001b[38;5;241m.\u001b[39mzoomout_iteration(\n\u001b[1;32m    763\u001b[0m         m_cclb,\n\u001b[1;32m    764\u001b[0m         \u001b[38;5;28mself\u001b[39m\u001b[38;5;241m.\u001b[39mM,\n\u001b[0;32m   (...)\u001b[0m\n\u001b[1;32m    769\u001b[0m         complete\u001b[38;5;241m=\u001b[39m\u001b[38;5;28;01mTrue\u001b[39;00m,\n\u001b[1;32m    770\u001b[0m     )\n",
      "File \u001b[0;32m~/anaconda3/envs/capstone/lib/python3.10/site-packages/pyFM/FMN/FMN.py:687\u001b[0m, in \u001b[0;36mFMN.zoomout_iteration\u001b[0;34m(self, cclb_size, M_init, M_final, isometric, weight_type, n_jobs, equals_id, complete)\u001b[0m\n\u001b[1;32m    684\u001b[0m     \u001b[38;5;28mself\u001b[39m\u001b[38;5;241m.\u001b[39mset_weights(weight_type\u001b[38;5;241m=\u001b[39m\u001b[38;5;124m\"\u001b[39m\u001b[38;5;124madjacency\u001b[39m\u001b[38;5;124m\"\u001b[39m)\n\u001b[1;32m    686\u001b[0m \u001b[38;5;28mself\u001b[39m\u001b[38;5;241m.\u001b[39mcompute_W(M\u001b[38;5;241m=\u001b[39mM_init)\n\u001b[0;32m--> 687\u001b[0m \u001b[38;5;28;43mself\u001b[39;49m\u001b[38;5;241;43m.\u001b[39;49m\u001b[43mcompute_CLB\u001b[49m\u001b[43m(\u001b[49m\u001b[43mequals_id\u001b[49m\u001b[38;5;241;43m=\u001b[39;49m\u001b[43mequals_id\u001b[49m\u001b[43m)\u001b[49m\n\u001b[1;32m    688\u001b[0m \u001b[38;5;28mself\u001b[39m\u001b[38;5;241m.\u001b[39mcompute_CCLB(cclb_size)\n\u001b[1;32m    689\u001b[0m \u001b[38;5;28mself\u001b[39m\u001b[38;5;241m.\u001b[39mcompute_p2p(complete\u001b[38;5;241m=\u001b[39mcomplete, n_jobs\u001b[38;5;241m=\u001b[39mn_jobs)\n",
      "File \u001b[0;32m~/anaconda3/envs/capstone/lib/python3.10/site-packages/pyFM/FMN/FMN.py:337\u001b[0m, in \u001b[0;36mFMN.compute_CLB\u001b[0;34m(self, equals_id, verbose)\u001b[0m\n\u001b[1;32m    334\u001b[0m \u001b[38;5;28;01melse\u001b[39;00m:\n\u001b[1;32m    335\u001b[0m     \u001b[38;5;66;03m# Returns (n*M,), (n*M,M) array\u001b[39;00m\n\u001b[1;32m    336\u001b[0m     M_mat \u001b[38;5;241m=\u001b[39m \u001b[38;5;241m1\u001b[39m \u001b[38;5;241m/\u001b[39m \u001b[38;5;28mself\u001b[39m\u001b[38;5;241m.\u001b[39mn_meshes \u001b[38;5;241m*\u001b[39m scipy\u001b[38;5;241m.\u001b[39msparse\u001b[38;5;241m.\u001b[39meye(\u001b[38;5;28mself\u001b[39m\u001b[38;5;241m.\u001b[39mW\u001b[38;5;241m.\u001b[39mshape[\u001b[38;5;241m0\u001b[39m])\n\u001b[0;32m--> 337\u001b[0m     eigenvalues, eigenvectors \u001b[38;5;241m=\u001b[39m \u001b[43mscipy\u001b[49m\u001b[38;5;241;43m.\u001b[39;49m\u001b[43msparse\u001b[49m\u001b[38;5;241;43m.\u001b[39;49m\u001b[43mlinalg\u001b[49m\u001b[38;5;241;43m.\u001b[39;49m\u001b[43meigsh\u001b[49m\u001b[43m(\u001b[49m\n\u001b[1;32m    338\u001b[0m \u001b[43m        \u001b[49m\u001b[38;5;28;43mself\u001b[39;49m\u001b[38;5;241;43m.\u001b[39;49m\u001b[43mW\u001b[49m\u001b[43m,\u001b[49m\u001b[43m \u001b[49m\u001b[43mM\u001b[49m\u001b[38;5;241;43m=\u001b[39;49m\u001b[43mM_mat\u001b[49m\u001b[43m,\u001b[49m\u001b[43m \u001b[49m\u001b[43mk\u001b[49m\u001b[38;5;241;43m=\u001b[39;49m\u001b[38;5;28;43mself\u001b[39;49m\u001b[38;5;241;43m.\u001b[39;49m\u001b[43mM\u001b[49m\u001b[43m,\u001b[49m\u001b[43m \u001b[49m\u001b[43mwhich\u001b[49m\u001b[38;5;241;43m=\u001b[39;49m\u001b[38;5;124;43m\"\u001b[39;49m\u001b[38;5;124;43mLM\u001b[39;49m\u001b[38;5;124;43m\"\u001b[39;49m\u001b[43m,\u001b[49m\u001b[43m \u001b[49m\u001b[43msigma\u001b[49m\u001b[38;5;241;43m=\u001b[39;49m\u001b[38;5;241;43m-\u001b[39;49m\u001b[38;5;241;43m1e-6\u001b[39;49m\n\u001b[1;32m    339\u001b[0m \u001b[43m    \u001b[49m\u001b[43m)\u001b[49m\n\u001b[1;32m    341\u001b[0m \u001b[38;5;28;01mif\u001b[39;00m verbose:\n\u001b[1;32m    342\u001b[0m     \u001b[38;5;28mprint\u001b[39m(\u001b[38;5;124mf\u001b[39m\u001b[38;5;124m\"\u001b[39m\u001b[38;5;130;01m\\t\u001b[39;00m\u001b[38;5;124mDone in \u001b[39m\u001b[38;5;132;01m{\u001b[39;00mtime\u001b[38;5;241m.\u001b[39mtime()\u001b[38;5;250m \u001b[39m\u001b[38;5;241m-\u001b[39m\u001b[38;5;250m \u001b[39mstart_time\u001b[38;5;132;01m:\u001b[39;00m\u001b[38;5;124m.1f\u001b[39m\u001b[38;5;132;01m}\u001b[39;00m\u001b[38;5;124ms\u001b[39m\u001b[38;5;124m\"\u001b[39m)\n",
      "File \u001b[0;32m~/anaconda3/envs/capstone/lib/python3.10/site-packages/scipy/sparse/linalg/_eigen/arpack/arpack.py:1652\u001b[0m, in \u001b[0;36meigsh\u001b[0;34m(A, k, M, sigma, which, v0, ncv, maxiter, tol, return_eigenvectors, Minv, OPinv, mode)\u001b[0m\n\u001b[1;32m   1650\u001b[0m matvec \u001b[38;5;241m=\u001b[39m \u001b[38;5;28;01mNone\u001b[39;00m\n\u001b[1;32m   1651\u001b[0m \u001b[38;5;28;01mif\u001b[39;00m OPinv \u001b[38;5;129;01mis\u001b[39;00m \u001b[38;5;28;01mNone\u001b[39;00m:\n\u001b[0;32m-> 1652\u001b[0m     Minv_matvec \u001b[38;5;241m=\u001b[39m \u001b[43mget_OPinv_matvec\u001b[49m\u001b[43m(\u001b[49m\u001b[43mA\u001b[49m\u001b[43m,\u001b[49m\u001b[43m \u001b[49m\u001b[43mM\u001b[49m\u001b[43m,\u001b[49m\u001b[43m \u001b[49m\u001b[43msigma\u001b[49m\u001b[43m,\u001b[49m\n\u001b[1;32m   1653\u001b[0m \u001b[43m                                   \u001b[49m\u001b[43mhermitian\u001b[49m\u001b[38;5;241;43m=\u001b[39;49m\u001b[38;5;28;43;01mTrue\u001b[39;49;00m\u001b[43m,\u001b[49m\u001b[43m \u001b[49m\u001b[43mtol\u001b[49m\u001b[38;5;241;43m=\u001b[39;49m\u001b[43mtol\u001b[49m\u001b[43m)\u001b[49m\n\u001b[1;32m   1654\u001b[0m \u001b[38;5;28;01melse\u001b[39;00m:\n\u001b[1;32m   1655\u001b[0m     OPinv \u001b[38;5;241m=\u001b[39m aslinearoperator(OPinv)\n",
      "File \u001b[0;32m~/anaconda3/envs/capstone/lib/python3.10/site-packages/scipy/sparse/linalg/_eigen/arpack/arpack.py:1093\u001b[0m, in \u001b[0;36mget_OPinv_matvec\u001b[0;34m(A, M, sigma, hermitian, tol)\u001b[0m\n\u001b[1;32m   1091\u001b[0m OP \u001b[38;5;241m=\u001b[39m A \u001b[38;5;241m-\u001b[39m sigma \u001b[38;5;241m*\u001b[39m M\n\u001b[1;32m   1092\u001b[0m OP \u001b[38;5;241m=\u001b[39m _fast_spmatrix_to_csc(OP, hermitian\u001b[38;5;241m=\u001b[39mhermitian)\n\u001b[0;32m-> 1093\u001b[0m \u001b[38;5;28;01mreturn\u001b[39;00m \u001b[43mSpLuInv\u001b[49m\u001b[43m(\u001b[49m\u001b[43mOP\u001b[49m\u001b[43m)\u001b[49m\u001b[38;5;241m.\u001b[39mmatvec\n",
      "File \u001b[0;32m~/anaconda3/envs/capstone/lib/python3.10/site-packages/scipy/sparse/linalg/_eigen/arpack/arpack.py:915\u001b[0m, in \u001b[0;36mSpLuInv.__init__\u001b[0;34m(self, M)\u001b[0m\n\u001b[1;32m    914\u001b[0m \u001b[38;5;28;01mdef\u001b[39;00m\u001b[38;5;250m \u001b[39m\u001b[38;5;21m__init__\u001b[39m(\u001b[38;5;28mself\u001b[39m, M):\n\u001b[0;32m--> 915\u001b[0m     \u001b[38;5;28mself\u001b[39m\u001b[38;5;241m.\u001b[39mM_lu \u001b[38;5;241m=\u001b[39m \u001b[43msplu\u001b[49m\u001b[43m(\u001b[49m\u001b[43mM\u001b[49m\u001b[43m)\u001b[49m\n\u001b[1;32m    916\u001b[0m     \u001b[38;5;28mself\u001b[39m\u001b[38;5;241m.\u001b[39mshape \u001b[38;5;241m=\u001b[39m M\u001b[38;5;241m.\u001b[39mshape\n\u001b[1;32m    917\u001b[0m     \u001b[38;5;28mself\u001b[39m\u001b[38;5;241m.\u001b[39mdtype \u001b[38;5;241m=\u001b[39m M\u001b[38;5;241m.\u001b[39mdtype\n",
      "File \u001b[0;32m~/anaconda3/envs/capstone/lib/python3.10/site-packages/scipy/sparse/linalg/_dsolve/linsolve.py:428\u001b[0m, in \u001b[0;36msplu\u001b[0;34m(A, permc_spec, diag_pivot_thresh, relax, panel_size, options)\u001b[0m\n\u001b[1;32m    425\u001b[0m \u001b[38;5;28;01mif\u001b[39;00m (_options[\u001b[38;5;124m\"\u001b[39m\u001b[38;5;124mColPerm\u001b[39m\u001b[38;5;124m\"\u001b[39m] \u001b[38;5;241m==\u001b[39m \u001b[38;5;124m\"\u001b[39m\u001b[38;5;124mNATURAL\u001b[39m\u001b[38;5;124m\"\u001b[39m):\n\u001b[1;32m    426\u001b[0m     _options[\u001b[38;5;124m\"\u001b[39m\u001b[38;5;124mSymmetricMode\u001b[39m\u001b[38;5;124m\"\u001b[39m] \u001b[38;5;241m=\u001b[39m \u001b[38;5;28;01mTrue\u001b[39;00m\n\u001b[0;32m--> 428\u001b[0m \u001b[38;5;28;01mreturn\u001b[39;00m \u001b[43m_superlu\u001b[49m\u001b[38;5;241;43m.\u001b[39;49m\u001b[43mgstrf\u001b[49m\u001b[43m(\u001b[49m\u001b[43mN\u001b[49m\u001b[43m,\u001b[49m\u001b[43m \u001b[49m\u001b[43mA\u001b[49m\u001b[38;5;241;43m.\u001b[39;49m\u001b[43mnnz\u001b[49m\u001b[43m,\u001b[49m\u001b[43m \u001b[49m\u001b[43mA\u001b[49m\u001b[38;5;241;43m.\u001b[39;49m\u001b[43mdata\u001b[49m\u001b[43m,\u001b[49m\u001b[43m \u001b[49m\u001b[43mindices\u001b[49m\u001b[43m,\u001b[49m\u001b[43m \u001b[49m\u001b[43mindptr\u001b[49m\u001b[43m,\u001b[49m\n\u001b[1;32m    429\u001b[0m \u001b[43m                      \u001b[49m\u001b[43mcsc_construct_func\u001b[49m\u001b[38;5;241;43m=\u001b[39;49m\u001b[43mcsc_construct_func\u001b[49m\u001b[43m,\u001b[49m\n\u001b[1;32m    430\u001b[0m \u001b[43m                      \u001b[49m\u001b[43milu\u001b[49m\u001b[38;5;241;43m=\u001b[39;49m\u001b[38;5;28;43;01mFalse\u001b[39;49;00m\u001b[43m,\u001b[49m\u001b[43m \u001b[49m\u001b[43moptions\u001b[49m\u001b[38;5;241;43m=\u001b[39;49m\u001b[43m_options\u001b[49m\u001b[43m)\u001b[49m\n",
      "\u001b[0;31mRuntimeError\u001b[0m: Factor is exactly singular"
     ]
    }
   ],
   "source": [
    "from pyFM.FMN import FMN\n",
    "\n",
    "# Build the network\n",
    "fmn_model = FMN(mesh_list, maps_dict.copy())\n",
    "#fmn_model.compute_CCLB(m=20)\n",
    "\n",
    "# Run Consistent Zoomout\n",
    "fmn_model.zoomout_refine(nit=25, step=2, subsample=1000, isometric=True, weight_type='icsm',\n",
    "                    M_init=None, cclb_ratio=.9, n_jobs=1, equals_id=False,\n",
    "                    verbose=True)"
   ]
  },
  {
   "cell_type": "code",
   "execution_count": 51,
   "id": "353126f8",
   "metadata": {},
   "outputs": [
    {
     "data": {
      "application/vnd.jupyter.widget-view+json": {
       "model_id": "27bb50ddd4564dabab38007f17e3e79e",
       "version_major": 2,
       "version_minor": 0
      },
      "text/plain": [
       "  0%|          | 0/20 [00:00<?, ?it/s]"
      ]
     },
     "metadata": {},
     "output_type": "display_data"
    },
    {
     "name": "stdout",
     "output_type": "stream",
     "text": [
      "Setting 380 edges on 20 nodes.\n",
      "Computing a 3000-sized subsample for each mesh\n"
     ]
    },
    {
     "data": {
      "application/vnd.jupyter.widget-view+json": {
       "model_id": "f99174b63d2f4165ae3f6eded571387b",
       "version_major": 2,
       "version_minor": 0
      },
      "text/plain": [
       "  0%|          | 0/24 [00:00<?, ?it/s]"
      ]
     },
     "metadata": {},
     "output_type": "display_data"
    }
   ],
   "source": [
    "K = 30\n",
    "maps_dict = {}\n",
    "\n",
    "def subsample_mesh(verts, n_samples=3000):\n",
    "    if len(verts) <= n_samples:\n",
    "        return verts, np.arange(len(verts))\n",
    "    idx = np.random.choice(len(verts), size=n_samples, replace=False)\n",
    "    return verts[idx], idx\n",
    "\n",
    "n_meshes = len(mesh_list)\n",
    "for i in tqdm(range(n_meshes)):\n",
    "    for j in range(n_meshes):\n",
    "        if i == j:\n",
    "            continue\n",
    "\n",
    "        verts_i, verts_j = np.asarray(mesh_list[i].vertices), np.asarray(mesh_list[j].vertices)\n",
    "\n",
    "        # Subsample\n",
    "        verts_i_sub, idx_i = subsample_mesh(verts_i)\n",
    "        verts_j_sub, idx_j = subsample_mesh(verts_j)\n",
    "\n",
    "        # Compute p2p map on subsampled vertices\n",
    "        p2p_sub = initial_p2p_map(verts_j_sub, verts_i_sub)\n",
    "\n",
    "        # Lift to full mesh safely\n",
    "        p2p_ji = np.full(len(verts_j), 0, dtype=int)  # <-- use 0, not -1\n",
    "        p2p_ji[idx_j] = idx_i[p2p_sub]\n",
    "\n",
    "        maps_dict[(i, j)] = spectral.mesh_p2p_to_FM(p2p_ji, mesh_list[i], mesh_list[j], dims=K)\n",
    "\n",
    "# Build FMN\n",
    "fmn_model = FMN(mesh_list, maps_dict)\n",
    "\n",
    "# Zoomout refine\n",
    "fmn_model.zoomout_refine(\n",
    "    nit=25,\n",
    "    step=2,\n",
    "    subsample=3000,\n",
    "    isometric=True,\n",
    "    weight_type='icsm',\n",
    "    M_init=None,\n",
    "    cclb_ratio=.9,\n",
    "    n_jobs=1,\n",
    "    equals_id=False,\n",
    "    verbose=True\n",
    ")\n"
   ]
  },
  {
   "cell_type": "code",
   "execution_count": 52,
   "id": "1acf95d4",
   "metadata": {},
   "outputs": [],
   "source": [
    "import pickle as p\n",
    "\n",
    "# save\n",
    "with open(\"../fmn_model_MESHES.pkl\", \"wb\") as f:\n",
    "    p.dump(fmn_model, f)\n",
    "\n",
    "# I might also save the refined maps_dict\n",
    "\n",
    "# # load\n",
    "# with open(\"../fmn_model_CZ.pkl\", \"rb\") as f:\n",
    "#     fmn_model = p.load(f)"
   ]
  },
  {
   "cell_type": "markdown",
   "id": "57317134",
   "metadata": {},
   "source": [
    "## Evaulate Model Perfromance and Results _____________________ [not working]"
   ]
  },
  {
   "cell_type": "code",
   "execution_count": 53,
   "id": "bc9c904f",
   "metadata": {},
   "outputs": [
    {
     "name": "stdout",
     "output_type": "stream",
     "text": [
      "Optimizing Cycle Weights...\n",
      "\tDone in 0.01266s\n",
      "Computing 78 CLB eigenvectors...\n",
      "\tDone in 0.5s\n"
     ]
    }
   ],
   "source": [
    "import matplotlib.pyplot as plt\n",
    "from sklearn.decomposition import PCA\n",
    "\n",
    "fmn_model.compute_CCLB(m=int(0.9*fmn_model.M))\n",
    "fmn_model.cclb_eigenvalues.shape\n",
    "all_embs_a = []\n",
    "all_embs_c = []\n",
    "\n",
    "for i in range(fmn_model.n_meshes):\n",
    "    CSD_a, CSD_c = fmn_model.get_CSD(i)\n",
    "\n",
    "    all_embs_a.append(CSD_a.flatten())\n",
    "    all_embs_c.append(CSD_c.flatten())\n",
    "\n",
    "all_embs_a = np.array(all_embs_a)\n",
    "all_embs_c = np.array(all_embs_c)\n",
    "\n",
    "pca_model = PCA(n_components=2)\n",
    "emb_red_a = pca_model.fit_transform(all_embs_a)\n",
    "emb_red_c = pca_model.fit_transform(all_embs_c)\n"
   ]
  },
  {
   "cell_type": "code",
   "execution_count": 54,
   "id": "3531db52",
   "metadata": {},
   "outputs": [
    {
     "data": {
      "text/plain": [
       "Text(0.5, 1.0, 'Conformal CSD')"
      ]
     },
     "execution_count": 54,
     "metadata": {},
     "output_type": "execute_result"
    },
    {
     "data": {
      "image/png": "[encoded data removed]",
      "text/plain": [
       "<Figure size 1500x500 with 2 Axes>"
      ]
     },
     "metadata": {},
     "output_type": "display_data"
    }
   ],
   "source": [
    "_, axs = plt.subplots(1, 2, figsize=(15, 5))\n",
    "\n",
    "axs[0].scatter(emb_red_a[:, 0], emb_red_a[:, 1], c=np.arange(len(emb_red_a)))\n",
    "axs[0].set_title('Area CSD')\n",
    "\n",
    "axs[1].scatter(emb_red_c[:, 0], emb_red_c[:, 1], c=np.arange(len(emb_red_c)))\n",
    "axs[1].set_title('Conformal CSD')"
   ]
  },
  {
   "cell_type": "code",
   "execution_count": 55,
   "id": "8f0c8ef2",
   "metadata": {},
   "outputs": [
    {
     "data": {
      "application/vnd.jupyter.widget-view+json": {
       "model_id": "95b2e589199f4b6c842fb4bc41910d8a",
       "version_major": 2,
       "version_minor": 0
      },
      "text/plain": [
       "HBox(children=(Output(), Output()))"
      ]
     },
     "metadata": {},
     "output_type": "display_data"
    },
    {
     "data": {
      "application/vnd.jupyter.widget-view+json": {
       "model_id": "d3c321ea3ea0437b9c5b7e54c6ca9f0e",
       "version_major": 2,
       "version_minor": 0
      },
      "text/plain": [
       "HBox(children=(Output(), Output()))"
      ]
     },
     "metadata": {},
     "output_type": "display_data"
    }
   ],
   "source": [
    "# For Display\n",
    "ind_1 = 0 # mesh 2 is the horse\n",
    "ind_2 = 1 # mesh 4 is the wolf\n",
    "\n",
    "new_maps_dict = fmn_model.maps\n",
    "map = new_maps_dict[(ind_1, ind_2)]\n",
    "mesh1, mesh2 = mesh_list[ind_1], mesh_list[ind_2]\n",
    "\n",
    "mesh1_o3d, mesh2_o3d = mesh_list_o3d[ind_1], mesh_list_o3d[ind_2]\n",
    "verts_o3d = np.asarray(mesh1_o3d.vertices)\n",
    "\n",
    "p2p_21 = spectral.convert.mesh_FM_to_p2p(map, mesh1, mesh2)\n",
    "\n",
    "cmap_1 = visu(mesh1.vertlist) # pointwise is 2 -> 1? so the map is applied to ?\n",
    "cmap_2 = cmap_1[p2p_21]\n",
    "double_plot(mesh1, mesh2, cmap_1, cmap_2)"
   ]
  }
 ],
 "metadata": {
  "kernelspec": {
   "display_name": "capstone",
   "language": "python",
   "name": "python3"
  },
  "language_info": {
   "codemirror_mode": {
    "name": "ipython",
    "version": 3
   },
   "file_extension": ".py",
   "mimetype": "text/x-python",
   "name": "python",
   "nbconvert_exporter": "python",
   "pygments_lexer": "ipython3",
   "version": "3.10.18"
  }
 },
 "nbformat": 4,
 "nbformat_minor": 5
}
