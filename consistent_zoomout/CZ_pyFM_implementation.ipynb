{
 "cells": [
  {
   "cell_type": "code",
   "execution_count": 1,
   "id": "1d499a67",
   "metadata": {},
   "outputs": [],
   "source": [
    "import os\n",
    "import numpy as np\n",
    "\n",
    "from pyFM.mesh import TriMesh\n",
    "from tqdm.auto import tqdm\n",
    "\n",
    "import meshplot as mp\n",
    "\n",
    "def plot_mesh(myMesh,cmap=None):\n",
    "    mp.plot(myMesh.vertlist, myMesh.facelist,c=cmap)\n",
    "    \n",
    "def double_plot(myMesh1,myMesh2,cmap1=None,cmap2=None):\n",
    "    d = mp.subplot(myMesh1.vertlist, myMesh1.facelist, c=cmap1, s=[2, 2, 0])\n",
    "    mp.subplot(myMesh2.vertlist, myMesh2.facelist, c=cmap2, s=[2, 2, 1], data=d)\n",
    "\n",
    "def visu(vertices):\n",
    "    min_coord,max_coord = np.min(vertices,axis=0,keepdims=True),np.max(vertices,axis=0,keepdims=True)\n",
    "    cmap = (vertices-min_coord)/(max_coord-min_coord)\n",
    "    return cmap"
   ]
  },
  {
   "cell_type": "code",
   "execution_count": 2,
   "id": "5e7b011a",
   "metadata": {},
   "outputs": [],
   "source": [
    "meshlist = [TriMesh(f'data/shapes/shapes/{i:02d}.off', area_normalize=True, center=True).process(k=150, intrinsic=True) for i in range(381,400,1)]"
   ]
  },
  {
   "cell_type": "code",
   "execution_count": 3,
   "id": "c6fe75d9",
   "metadata": {},
   "outputs": [
    {
     "data": {
      "application/vnd.jupyter.widget-view+json": {
       "model_id": "264816fb7f5e48ff932b7392927298d0",
       "version_major": 2,
       "version_minor": 0
      },
      "text/plain": [
       "  0%|          | 0/380 [00:00<?, ?it/s]"
      ]
     },
     "metadata": {},
     "output_type": "display_data"
    },
    {
     "ename": "ValueError",
     "evalue": "too many values to unpack (expected 2)",
     "output_type": "error",
     "traceback": [
      "\u001b[0;31m---------------------------------------------------------------------------\u001b[0m",
      "\u001b[0;31mValueError\u001b[0m                                Traceback (most recent call last)",
      "Cell \u001b[0;32mIn[3], line 3\u001b[0m\n\u001b[1;32m      1\u001b[0m map_files \u001b[38;5;241m=\u001b[39m os\u001b[38;5;241m.\u001b[39mlistdir(\u001b[38;5;124m'\u001b[39m\u001b[38;5;124mdata/bim_maps/bim_maps\u001b[39m\u001b[38;5;124m'\u001b[39m)\n\u001b[0;32m----> 3\u001b[0m \u001b[38;5;28;01mfor\u001b[39;00m idx, map_filename \u001b[38;5;129;01min\u001b[39;00m tqdm(map_files):\n\u001b[1;32m      4\u001b[0m     ind1 \u001b[38;5;241m=\u001b[39m idx\n\u001b[1;32m      6\u001b[0m     \u001b[38;5;28;01mfor\u001b[39;00m i \u001b[38;5;129;01min\u001b[39;00m \u001b[38;5;28mrange\u001b[39m(\u001b[38;5;28mlen\u001b[39m(meshlist)):\n",
      "\u001b[0;31mValueError\u001b[0m: too many values to unpack (expected 2)"
     ]
    }
   ],
   "source": [
    "map_files = os.listdir('data/bim_maps/bim_maps')\n",
    "\n",
    "for idx, map_filename in tqdm(map_files):\n",
    "    ind1 = idx\n",
    "    \n",
    "    for i in range(len(meshlist)):\n",
    "        ind2 = i\n",
    "        if ind2 == ind1:\n",
    "            continue\n",
    "        else:\n",
    "\n",
    "            # Indicing starts at 1 in the names, but at 0 on the meshlist\n",
    "            mesh1, mesh2 = meshlist[ind1], meshlist[ind2]\n",
    "            \n",
    "            # Load the pointwise map\n",
    "            p2p_21 = np.loadtxt(f'../data/camel_gallop/maps/{map_filename}', dtype=int)\n",
    "\n",
    "            if ind1 < 1 and ind2 < 4:\n",
    "                cmap1 = visu(mesh1.vertlist); cmap2 = cmap1[p2p_21]\n",
    "                double_plot(mesh1, mesh2, cmap1, cmap2)"
   ]
  }
 ],
 "metadata": {
  "kernelspec": {
   "display_name": "capstone",
   "language": "python",
   "name": "python3"
  },
  "language_info": {
   "codemirror_mode": {
    "name": "ipython",
    "version": 3
   },
   "file_extension": ".py",
   "mimetype": "text/x-python",
   "name": "python",
   "nbconvert_exporter": "python",
   "pygments_lexer": "ipython3",
   "version": "3.10.18"
  }
 },
 "nbformat": 4,
 "nbformat_minor": 5
}
