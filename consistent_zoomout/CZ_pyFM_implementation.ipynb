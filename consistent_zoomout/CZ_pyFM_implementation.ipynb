{
 "cells": [
  {
   "cell_type": "code",
   "execution_count": 10,
   "id": "1d499a67",
   "metadata": {},
   "outputs": [],
   "source": [
    "import os\n",
    "import numpy as np\n",
    "\n",
    "from pyFM.FMN import FMN\n",
    "from pyFM.mesh import TriMesh\n",
    "import pyFM.spectral as spectral\n",
    "\n",
    "from tqdm.auto import tqdm\n",
    "\n",
    "import meshplot as mp\n",
    "\n",
    "def plot_mesh(myMesh,cmap=None):\n",
    "    mp.plot(myMesh.vertlist, myMesh.facelist,c=cmap)\n",
    "    \n",
    "def double_plot(myMesh1,myMesh2,cmap1=None,cmap2=None):\n",
    "    d = mp.subplot(myMesh1.vertlist, myMesh1.facelist, c=cmap1, s=[2, 2, 0])\n",
    "    mp.subplot(myMesh2.vertlist, myMesh2.facelist, c=cmap2, s=[2, 2, 1], data=d)\n",
    "\n",
    "def visu(vertices):\n",
    "    min_coord,max_coord = np.min(vertices,axis=0,keepdims=True),np.max(vertices,axis=0,keepdims=True)\n",
    "    cmap = (vertices-min_coord)/(max_coord-min_coord)\n",
    "    return cmap"
   ]
  },
  {
   "cell_type": "markdown",
   "id": "28e0ffdc",
   "metadata": {},
   "source": [
    "## Load Meshes and Maps\n",
    "\n",
    "To Do:\n",
    "will run MATLAB demo and compare:\n",
    "1. if the order the meshes are being called is correct\n",
    "2. if the correct maps are being loaded\n",
    "\n",
    "\n",
    "also need to see how they are evaluating the results"
   ]
  },
  {
   "cell_type": "code",
   "execution_count": 12,
   "id": "5e7b011a",
   "metadata": {},
   "outputs": [
    {
     "data": {
      "application/vnd.jupyter.widget-view+json": {
       "model_id": "927f65b0cd4b4ee8bebf1d027590d032",
       "version_major": 2,
       "version_minor": 0
      },
      "text/plain": [
       "  0%|          | 0/20 [00:00<?, ?it/s]"
      ]
     },
     "metadata": {},
     "output_type": "display_data"
    }
   ],
   "source": [
    "mesh_list = []\n",
    "for i in tqdm(range(381,401,1)):\n",
    "    mesh = TriMesh(f'data/shapes/shapes/{i:02d}.off', area_normalize=True, center=True).process(k=150, intrinsic=True)\n",
    "    mesh_list.append(mesh)"
   ]
  },
  {
   "cell_type": "code",
   "execution_count": 13,
   "id": "d5dc7cc7",
   "metadata": {},
   "outputs": [
    {
     "data": {
      "application/vnd.jupyter.widget-view+json": {
       "model_id": "9c12d882c29f4beaba15cced1d18cb82",
       "version_major": 2,
       "version_minor": 0
      },
      "text/plain": [
       "HBox(children=(Output(), Output()))"
      ]
     },
     "metadata": {},
     "output_type": "display_data"
    },
    {
     "data": {
      "application/vnd.jupyter.widget-view+json": {
       "model_id": "43353ea24cbf43edbf60aa41eb13dd2f",
       "version_major": 2,
       "version_minor": 0
      },
      "text/plain": [
       "HBox(children=(Output(), Output()))"
      ]
     },
     "metadata": {},
     "output_type": "display_data"
    }
   ],
   "source": [
    "double_plot(mesh_list[0], mesh_list[1])"
   ]
  },
  {
   "cell_type": "code",
   "execution_count": 14,
   "id": "1ffbb14e",
   "metadata": {},
   "outputs": [
    {
     "data": {
      "application/vnd.jupyter.widget-view+json": {
       "model_id": "7aa2df2cf8ff41af96cc7cfed39a15b0",
       "version_major": 2,
       "version_minor": 0
      },
      "text/plain": [
       "  0%|          | 0/380 [00:00<?, ?it/s]"
      ]
     },
     "metadata": {},
     "output_type": "display_data"
    }
   ],
   "source": [
    "map_files = os.listdir('./data/bim_maps/bim_maps/')\n",
    "index_offset = 381\n",
    "maps_dict = {}\n",
    "K = 30 # Size of initial functional maps, small value since our initial maps have noise - from the FMN Example\n",
    "\n",
    "for map_file in tqdm(map_files):\n",
    "    ind1, ind2s = map_file.split(\"_\")\n",
    "    ind2, _ = ind2s.split(\".\")\n",
    "    ind1 = int(ind1); ind2 = int(ind2)\n",
    "\n",
    "    ind1 = ind1 - index_offset; ind2 = ind2 - index_offset\n",
    "\n",
    "    mesh1, mesh2 = mesh_list[ind1], mesh_list[ind2]\n",
    "    \n",
    "    p2p_21 = np.loadtxt(f'./data/bim_maps/bim_maps/{map_file}', dtype=int)\n",
    "\n",
    "    # Convert to functional map and populate dictionary\n",
    "    FM_12 = spectral.mesh_p2p_to_FM(p2p_21, mesh2, mesh1, dims=K) # so do I need to change the indices in the maps_dict??? will it be ok!!!!\n",
    "    maps_dict[(ind1, ind2)] = FM_12"
   ]
  },
  {
   "cell_type": "code",
   "execution_count": 24,
   "id": "59358198",
   "metadata": {},
   "outputs": [
    {
     "data": {
      "application/vnd.jupyter.widget-view+json": {
       "model_id": "be2a9d57612b43e58da6a8cfa295e09e",
       "version_major": 2,
       "version_minor": 0
      },
      "text/plain": [
       "HBox(children=(Output(), Output()))"
      ]
     },
     "metadata": {},
     "output_type": "display_data"
    },
    {
     "data": {
      "application/vnd.jupyter.widget-view+json": {
       "model_id": "9a62d9ca3c2044c693f9349df3488145",
       "version_major": 2,
       "version_minor": 0
      },
      "text/plain": [
       "HBox(children=(Output(), Output()))"
      ]
     },
     "metadata": {},
     "output_type": "display_data"
    },
    {
     "name": "stdout",
     "output_type": "stream",
     "text": [
      "Invalid color array given! Supported are numpy arrays. <class 'numpy.ndarray'>\n"
     ]
    },
    {
     "data": {
      "application/vnd.jupyter.widget-view+json": {
       "model_id": "ccc3f773a4804edfad2f66f045e1e49a",
       "version_major": 2,
       "version_minor": 0
      },
      "text/plain": [
       "HBox(children=(Output(), Output()))"
      ]
     },
     "metadata": {},
     "output_type": "display_data"
    },
    {
     "data": {
      "application/vnd.jupyter.widget-view+json": {
       "model_id": "ce9f80d6e3884db698a44656744e0344",
       "version_major": 2,
       "version_minor": 0
      },
      "text/plain": [
       "HBox(children=(Output(), Output()))"
      ]
     },
     "metadata": {},
     "output_type": "display_data"
    },
    {
     "name": "stdout",
     "output_type": "stream",
     "text": [
      "Invalid color array given! Supported are numpy arrays. <class 'numpy.ndarray'>\n"
     ]
    }
   ],
   "source": [
    "# Display inital maps\n",
    "ind_1 = 0\n",
    "ind_2 = 1\n",
    "mesh1, mesh2 = mesh_list[ind_1], mesh_list[ind_2]\n",
    "map = maps_dict[(ind_1, ind_2)]\n",
    "p2p_21 = spectral.convert.mesh_FM_to_p2p(map, mesh1, mesh2) # is this conversion causing the issue? - I think it is!!!!\n",
    "\n",
    "#print(mesh1.vertlist)\n",
    "#print(mesh2.vertlist.shape)\n",
    "\n",
    "# print(p2p_21.shape)\n",
    "# print(mesh1.vertlist.shape)\n",
    "# print(mesh2.vertlist.shape)\n",
    "n = p2p_21.shape[0]\n",
    "p2p_map = np.eye(N=n, dtype=int)\n",
    "\n",
    "cmap_1 = visu(mesh1.vertlist) # pointwise is 2 -> 1? so the map is applied to 2\n",
    "cmap_2 = cmap_1[p2p_map]\n",
    "double_plot(mesh1, mesh2, cmap_1, cmap_2)\n",
    "\n",
    "# print(cmap_1.dtype)\n",
    "# print(cmap_2.dtype)\n",
    "# print(cmap_1.shape)\n",
    "# print(cmap_2.shape)\n",
    "\n",
    "# min_coord,max_coord = np.min(cmap_2,axis=0,keepdims=True),np.max(cmap_2,axis=0,keepdims=True)\n",
    "# newCmap_2 = (cmap_2-min_coord)/(max_coord-min_coord)\n",
    "# print(min_coord)\n",
    "# print(max_coord)\n",
    "\n",
    "p2p_21_1 = np.loadtxt(f'./data/bim_maps/bim_maps/382_381.map', dtype=int)\n",
    "cmap_1 = visu(mesh2.vertlist)\n",
    "cmap_2_1 = cmap_1[p2p_map]\n",
    "\n",
    "double_plot(mesh2, mesh2, cmap_1, cmap_2_1)"
   ]
  },
  {
   "cell_type": "code",
   "execution_count": 9,
   "id": "6f65c4a6",
   "metadata": {},
   "outputs": [
    {
     "name": "stdout",
     "output_type": "stream",
     "text": [
      "Computing commutativity operators\n",
      "\tScaling LBO commutativity weight by 6.0e-09\n",
      "\n",
      "Optimization :\n",
      "\t50 Ev on source - 50 Ev on Target\n",
      "\tUsing 100 Descriptors\n",
      "\tHyperparameters :\n",
      "\t\tDescriptors preservation :1.0e+00\n",
      "\t\tDescriptors commutativity :1.0e-01\n",
      "\t\tLaplacian commutativity :1.0e-02\n",
      "\t\tOrientation preservation :0.0e+00\n",
      "\n",
      "\tTask : CONVERGENCE: RELATIVE REDUCTION OF F <= FACTR*EPSMCH, funcall : 152, nit : 145, warnflag : 0\n",
      "\tDone in 1.22 seconds\n"
     ]
    },
    {
     "data": {
      "application/vnd.jupyter.widget-view+json": {
       "model_id": "fbb3dfb5428442a9b6732ef28b2a239b",
       "version_major": 2,
       "version_minor": 0
      },
      "text/plain": [
       "HBox(children=(Output(), Output()))"
      ]
     },
     "metadata": {},
     "output_type": "display_data"
    },
    {
     "data": {
      "application/vnd.jupyter.widget-view+json": {
       "model_id": "fe7f87f1409849688a40e4eb8b5ee76a",
       "version_major": 2,
       "version_minor": 0
      },
      "text/plain": [
       "HBox(children=(Output(), Output()))"
      ]
     },
     "metadata": {},
     "output_type": "display_data"
    }
   ],
   "source": [
    "from pyFM.functional import FunctionalMapping\n",
    "\n",
    "# Display inital maps\n",
    "ind_1 = 1\n",
    "ind_2 = 3\n",
    "mesh1, mesh2 = mesh_list[ind_1], mesh_list[ind_2]\n",
    "\n",
    "process_params = {\n",
    "    'n_ev': (35,35),  # Number of eigenvalues on source and Target\n",
    "    'landmarks': np.loadtxt('../../pyFM/examples/data/landmarks.txt',dtype=int)[:5],  # loading 5 landmarks\n",
    "    'subsample_step': 5,  # In order not to use too many descriptors\n",
    "    'descr_type': 'WKS',  # WKS or HKS\n",
    "}\n",
    "model = FunctionalMapping(mesh1,mesh2)\n",
    "#model.preprocess(**process_params,verbose=True);\n",
    "\n",
    "fit_params = {\n",
    "    'w_descr': 1e0,\n",
    "    'w_lap': 1e-2,\n",
    "    'w_dcomm': 1e-1,\n",
    "    'w_orient': 0\n",
    "}\n",
    "\n",
    "model.fit(**fit_params, verbose=True)\n",
    "\n",
    "\n",
    "p2p_21 = model.get_p2p(n_jobs=1)\n",
    "\n",
    "cmap_1 = visu(mesh1.vertlist) # pointwise is 2 -> 1? so the map is applied to 2\n",
    "cmap_2 = cmap_1[p2p_21]\n",
    "double_plot(mesh1, mesh2, cmap_1, cmap_2)\n"
   ]
  },
  {
   "cell_type": "markdown",
   "id": "47dbdae1",
   "metadata": {},
   "source": [
    "## Analyse the Embeddings\n",
    "before applying CZ\n",
    "\n",
    "Will probably just make this a function to apply in the analysis stages of the project"
   ]
  },
  {
   "cell_type": "code",
   "execution_count": 78,
   "id": "63ec17be",
   "metadata": {},
   "outputs": [
    {
     "name": "stdout",
     "output_type": "stream",
     "text": [
      "Setting 380 edges on 20 nodes.\n",
      "Computing cycle information\n",
      "Optimizing Cycle Weights...\n",
      "\tDone in 0.09687s\n",
      "Computing 30 CLB eigenvectors...\n",
      "\tDone in 0.1s\n"
     ]
    },
    {
     "data": {
      "text/plain": [
       "<pyFM.FMN.FMN.FMN at 0x7d47d2223be0>"
      ]
     },
     "execution_count": 78,
     "metadata": {},
     "output_type": "execute_result"
    }
   ],
   "source": [
    "# Build the network\n",
    "fmn_model = FMN(mesh_list, maps_dict.copy())\n",
    "\n",
    "# Compute CCLB\n",
    "fmn_model.compute_CCLB(m=20)"
   ]
  },
  {
   "cell_type": "code",
   "execution_count": 79,
   "id": "39ebbac2",
   "metadata": {},
   "outputs": [],
   "source": [
    "# embedding for area and conformal charecteristic shape difference operator using the CCLB\n",
    "# will we have an embedding for sequences and stuff here then? - or is that supposed to be an alterative to the CCLB or something\n",
    "all_embs_a = []\n",
    "all_embs_c = []\n",
    "\n",
    "for i in range(fmn_model.n_meshes):\n",
    "    CSD_a, CSD_c = fmn_model.get_CSD(i)\n",
    "\n",
    "    all_embs_a.append(CSD_a.flatten())\n",
    "    all_embs_c.append(CSD_c.flatten())\n",
    "\n",
    "all_embs_a = np.array(all_embs_a)\n",
    "all_embs_c = np.array(all_embs_c)"
   ]
  },
  {
   "cell_type": "code",
   "execution_count": 80,
   "id": "a0a308f2",
   "metadata": {},
   "outputs": [
    {
     "data": {
      "text/plain": [
       "Text(0.5, 1.0, 'Conformal CSD')"
      ]
     },
     "execution_count": 80,
     "metadata": {},
     "output_type": "execute_result"
    },
    {
     "data": {
      "image/png": "[encoded data removed]",
      "text/plain": [
       "<Figure size 1500x500 with 2 Axes>"
      ]
     },
     "metadata": {},
     "output_type": "display_data"
    }
   ],
   "source": [
    "# Apply PCA (Principal Component Analysis) on the embedding to visualize the results\n",
    "import matplotlib.pyplot as plt\n",
    "from sklearn.decomposition import PCA\n",
    "pca_model = PCA(n_components=2)\n",
    "emb_red_a = pca_model.fit_transform(all_embs_a)\n",
    "emb_red_c = pca_model.fit_transform(all_embs_c)\n",
    "\n",
    "# Display\n",
    "_, axs = plt.subplots(1, 2, figsize=(15, 5))\n",
    "\n",
    "axs[0].scatter(emb_red_a[:, 0], emb_red_a[:, 1], c=np.arange(len(emb_red_a)))\n",
    "axs[0].set_title('Area CSD')\n",
    "\n",
    "axs[1].scatter(emb_red_c[:, 0], emb_red_c[:, 1], c=np.arange(len(emb_red_c)))\n",
    "axs[1].set_title('Conformal CSD')"
   ]
  },
  {
   "cell_type": "markdown",
   "id": "b3952521",
   "metadata": {},
   "source": [
    "## Consistent Zoomout\n",
    "\n",
    "the matlab demo uses:\n",
    "iterations = 25\n",
    "zoomout =  from dim 30 to 80 with step of 2\n",
    "subsample = 1000\n",
    "weights = icsm\n",
    "alpha = 0.9"
   ]
  },
  {
   "cell_type": "code",
   "execution_count": 90,
   "id": "bcc8ef3a",
   "metadata": {},
   "outputs": [
    {
     "name": "stdout",
     "output_type": "stream",
     "text": [
      "Computing a 1000-sized subsample for each mesh\n"
     ]
    },
    {
     "data": {
      "application/vnd.jupyter.widget-view+json": {
       "model_id": "8f809936b24b457b869b996da2256891",
       "version_major": 2,
       "version_minor": 0
      },
      "text/plain": [
       "  0%|          | 0/24 [00:00<?, ?it/s]"
      ]
     },
     "metadata": {},
     "output_type": "display_data"
    },
    {
     "name": "stdout",
     "output_type": "stream",
     "text": [
      "Optimizing Cycle Weights...\n",
      "\tDone in 0.10495s\n",
      "Computing 96 CLB eigenvectors...\n",
      "\tDone in 1.0s\n"
     ]
    },
    {
     "data": {
      "text/plain": [
       "(86,)"
      ]
     },
     "execution_count": 90,
     "metadata": {},
     "output_type": "execute_result"
    }
   ],
   "source": [
    "fmn_model.zoomout_refine(nit=25, step=2, subsample=1000, isometric=True, weight_type='icsm',\n",
    "                    M_init=None, cclb_ratio=.9, n_jobs=1, equals_id=False,\n",
    "                    verbose=True)\n",
    "\n",
    "fmn_model.compute_CCLB(m=int(0.9*fmn_model.M))\n",
    "fmn_model.cclb_eigenvalues.shape"
   ]
  },
  {
   "cell_type": "code",
   "execution_count": 91,
   "id": "f04213b5",
   "metadata": {},
   "outputs": [],
   "source": [
    "# to save the model\n",
    "import pickle as p\n",
    "# save\n",
    "with open(\"../../fmn_model_CZ.pkl\", \"wb\") as f:\n",
    "    p.dump(fmn_model, f)\n",
    "\n",
    "# # load\n",
    "# with open(\"../../fmn_model_CZ.pkl\", \"rb\") as f:\n",
    "#     fmn_model = p.load(f)"
   ]
  },
  {
   "cell_type": "markdown",
   "id": "e31e5f17",
   "metadata": {},
   "source": [
    "Analyse the embeddings after CZ"
   ]
  },
  {
   "cell_type": "code",
   "execution_count": 92,
   "id": "c7c17871",
   "metadata": {},
   "outputs": [],
   "source": [
    "all_embs_a = []\n",
    "all_embs_c = []\n",
    "\n",
    "for i in range(fmn_model.n_meshes):\n",
    "    CSD_a, CSD_c = fmn_model.get_CSD(i)\n",
    "\n",
    "    all_embs_a.append(CSD_a.flatten())\n",
    "    all_embs_c.append(CSD_c.flatten())\n",
    "\n",
    "all_embs_a = np.array(all_embs_a)\n",
    "all_embs_c = np.array(all_embs_c)"
   ]
  },
  {
   "cell_type": "code",
   "execution_count": 93,
   "id": "518b9462",
   "metadata": {},
   "outputs": [
    {
     "data": {
      "text/plain": [
       "Text(0.5, 1.0, 'Conformal CSD')"
      ]
     },
     "execution_count": 93,
     "metadata": {},
     "output_type": "execute_result"
    },
    {
     "data": {
      "image/png": "[encoded data removed]",
      "text/plain": [
       "<Figure size 1500x500 with 2 Axes>"
      ]
     },
     "metadata": {},
     "output_type": "display_data"
    }
   ],
   "source": [
    "import matplotlib.pyplot as plt\n",
    "from sklearn.decomposition import PCA\n",
    "pca_model = PCA(n_components=2)\n",
    "emb_red_a = pca_model.fit_transform(all_embs_a)\n",
    "emb_red_c = pca_model.fit_transform(all_embs_c)\n",
    "\n",
    "_, axs = plt.subplots(1, 2, figsize=(15, 5))\n",
    "\n",
    "axs[0].scatter(emb_red_a[:, 0], emb_red_a[:, 1], c=np.arange(len(emb_red_a)))\n",
    "axs[0].set_title('Area CSD')\n",
    "\n",
    "axs[1].scatter(emb_red_c[:, 0], emb_red_c[:, 1], c=np.arange(len(emb_red_c)))\n",
    "axs[1].set_title('Conformal CSD')"
   ]
  },
  {
   "cell_type": "code",
   "execution_count": 118,
   "id": "3c8f5818",
   "metadata": {},
   "outputs": [
    {
     "data": {
      "application/vnd.jupyter.widget-view+json": {
       "model_id": "220735f8164c420db683a42b18ebbc47",
       "version_major": 2,
       "version_minor": 0
      },
      "text/plain": [
       "HBox(children=(Output(), Output()))"
      ]
     },
     "metadata": {},
     "output_type": "display_data"
    },
    {
     "data": {
      "application/vnd.jupyter.widget-view+json": {
       "model_id": "f314203571ac4a7a978aafc9634d488f",
       "version_major": 2,
       "version_minor": 0
      },
      "text/plain": [
       "HBox(children=(Output(), Output()))"
      ]
     },
     "metadata": {},
     "output_type": "display_data"
    }
   ],
   "source": [
    "# For Display\n",
    "ind_1 = 1 # mesh 2 is the horse\n",
    "ind_2 = 3 # mesh 4 is the wolf\n",
    "\n",
    "new_maps_dict = fmn_model.maps\n",
    "map = new_maps_dict[ind_1, ind_2]\n",
    "mesh1, mesh2 = mesh_list[ind_1], mesh_list[ind_2]\n",
    "\n",
    "p2p_21 = spectral.convert.mesh_FM_to_p2p(map, mesh1, mesh2)\n",
    "\n",
    "cmap_1 = visu(mesh1.vertlist) # pointwise is 2 -> 1? so the map is applied to ?\n",
    "cmap_2 = cmap_1[p2p_21]\n",
    "double_plot(mesh1, mesh2, cmap_1, cmap_2)\n",
    "\n",
    "# for idx, map in tqdm(new_maps_dict):\n",
    "#     print(idx)\n",
    "\n",
    "    # # Retrive corresponding meshes\n",
    "    # mesh1, mesh2 = mesh_list[ind_1], mesh_list[ind_2]\n",
    "\n",
    "    # # Display maps\n",
    "    # if ind_1 < 1 and ind_2 < 2:\n",
    "    #     # Convert to p2p\n",
    "    #     p2p_map = spectral.convert.mesh_FM_to_p2p(map, mesh2, mesh1, subsample=3000)\n",
    "        \n",
    "    #     cmap_2 = visu(mesh2.vertlist) # pointwise is 2 -> 1? \n",
    "    #     cmap_1 = cmap_2[p2p_map]\n",
    "    #     double_plot(mesh2, mesh1, cmap_2, cmap_1)\n",
    "    \n",
    "    "
   ]
  }
 ],
 "metadata": {
  "kernelspec": {
   "display_name": "capstone",
   "language": "python",
   "name": "python3"
  },
  "language_info": {
   "codemirror_mode": {
    "name": "ipython",
    "version": 3
   },
   "file_extension": ".py",
   "mimetype": "text/x-python",
   "name": "python",
   "nbconvert_exporter": "python",
   "pygments_lexer": "ipython3",
   "version": "3.10.18"
  }
 },
 "nbformat": 4,
 "nbformat_minor": 5
}
