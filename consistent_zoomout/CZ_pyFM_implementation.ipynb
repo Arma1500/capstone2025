{
 "cells": [
  {
   "cell_type": "code",
   "execution_count": 23,
   "id": "1d499a67",
   "metadata": {},
   "outputs": [],
   "source": [
    "import os\n",
    "import numpy as np\n",
    "\n",
    "from pyFM.FMN import FMN\n",
    "from pyFM.mesh import TriMesh\n",
    "import pyFM.spectral as spectral\n",
    "\n",
    "from tqdm.auto import tqdm\n",
    "\n",
    "import meshplot as mp\n",
    "\n",
    "def plot_mesh(myMesh,cmap=None):\n",
    "    mp.plot(myMesh.vertlist, myMesh.facelist,c=cmap)\n",
    "    \n",
    "def double_plot(myMesh1,myMesh2,cmap1=None,cmap2=None):\n",
    "    d = mp.subplot(myMesh1.vertlist, myMesh1.facelist, c=cmap1, s=[2, 2, 0])\n",
    "    mp.subplot(myMesh2.vertlist, myMesh2.facelist, c=cmap2, s=[2, 2, 1], data=d)\n",
    "\n",
    "def visu(vertices):\n",
    "    min_coord,max_coord = np.min(vertices,axis=0,keepdims=True),np.max(vertices,axis=0,keepdims=True)\n",
    "    cmap = (vertices-min_coord)/(max_coord-min_coord)\n",
    "    return cmap"
   ]
  },
  {
   "cell_type": "markdown",
   "id": "28e0ffdc",
   "metadata": {},
   "source": [
    "## Load Meshes and Maps\n",
    "\n",
    "To Do:\n",
    "will run MATLAB demo and compare:\n",
    "1. if the order the meshes are being called is correct\n",
    "2. if the correct maps are being loaded\n",
    "\n",
    "\n",
    "also need to see how they are evaluating the results"
   ]
  },
  {
   "cell_type": "code",
   "execution_count": 24,
   "id": "5e7b011a",
   "metadata": {},
   "outputs": [
    {
     "data": {
      "application/vnd.jupyter.widget-view+json": {
       "model_id": "4fbc3a2ebaeb49b480bb34cd397dd26e",
       "version_major": 2,
       "version_minor": 0
      },
      "text/plain": [
       "  0%|          | 0/20 [00:00<?, ?it/s]"
      ]
     },
     "metadata": {},
     "output_type": "display_data"
    }
   ],
   "source": [
    "mesh_list = []\n",
    "for i in tqdm(range(381,401,1)):\n",
    "    mesh = TriMesh(f'data/shapes/shapes/{i:02d}.off', area_normalize=True, center=True).process(k=150, intrinsic=True)\n",
    "    mesh_list.append(mesh)"
   ]
  },
  {
   "cell_type": "code",
   "execution_count": 26,
   "id": "d5dc7cc7",
   "metadata": {},
   "outputs": [
    {
     "data": {
      "application/vnd.jupyter.widget-view+json": {
       "model_id": "a47f9ae457d047a68ee31f3bf533c652",
       "version_major": 2,
       "version_minor": 0
      },
      "text/plain": [
       "HBox(children=(Output(), Output()))"
      ]
     },
     "metadata": {},
     "output_type": "display_data"
    },
    {
     "data": {
      "application/vnd.jupyter.widget-view+json": {
       "model_id": "616bc7197f8242ccbc7561cb9bc3c9f9",
       "version_major": 2,
       "version_minor": 0
      },
      "text/plain": [
       "HBox(children=(Output(), Output()))"
      ]
     },
     "metadata": {},
     "output_type": "display_data"
    }
   ],
   "source": [
    "double_plot(mesh_list[4], mesh_list[6])"
   ]
  },
  {
   "cell_type": "code",
   "execution_count": 52,
   "id": "1ffbb14e",
   "metadata": {},
   "outputs": [
    {
     "data": {
      "application/vnd.jupyter.widget-view+json": {
       "model_id": "2dd4185330cf406ebf6b96adf98b6e6b",
       "version_major": 2,
       "version_minor": 0
      },
      "text/plain": [
       "  0%|          | 0/380 [00:00<?, ?it/s]"
      ]
     },
     "metadata": {},
     "output_type": "display_data"
    },
    {
     "data": {
      "application/vnd.jupyter.widget-view+json": {
       "model_id": "7adfd064c4074e5d81fdd1ab37f7fed2",
       "version_major": 2,
       "version_minor": 0
      },
      "text/plain": [
       "HBox(children=(Output(), Output()))"
      ]
     },
     "metadata": {},
     "output_type": "display_data"
    },
    {
     "data": {
      "application/vnd.jupyter.widget-view+json": {
       "model_id": "f13521631f7549d9bec90b942285e870",
       "version_major": 2,
       "version_minor": 0
      },
      "text/plain": [
       "HBox(children=(Output(), Output()))"
      ]
     },
     "metadata": {},
     "output_type": "display_data"
    }
   ],
   "source": [
    "map_files = os.listdir('./data/bim_maps/bim_maps/')\n",
    "index_offset = 381\n",
    "maps_dict = {}\n",
    "K = 30 # Size of initial functional maps, small value since our initial maps have noise - from the FMN Example\n",
    "\n",
    "for map_file in tqdm(map_files):\n",
    "    ind1, ind2s = map_file.split(\"_\")\n",
    "    ind2, _ = ind2s.split(\".\")\n",
    "    ind1 = int(ind1); ind2 = int(ind2)\n",
    "\n",
    "    ind1 = ind1 - index_offset; ind2 = ind2 - index_offset\n",
    "\n",
    "    mesh1, mesh2 = mesh_list[ind1], mesh_list[ind2]\n",
    "    \n",
    "    p2p_21 = np.loadtxt(f'./data/bim_maps/bim_maps/{map_file}', dtype=int)\n",
    "    \n",
    "    if ind1 == 0 and ind2 == 1:\n",
    "        cmap_2 = visu(mesh2.vertlist) # pointwise is 2 -> 1? so the map is applied to 2\n",
    "        cmap_1 = cmap_2[p2p_21]\n",
    "        double_plot(mesh1, mesh2, cmap_1, cmap_2)\n",
    "\n",
    "    # Convert to functional map and populate dictionary\n",
    "    FM_12 = spectral.mesh_p2p_to_FM(p2p_21, mesh2, mesh1, dims=K) # so do I need to change the indices in the maps_dict??? will it be ok!!!!\n",
    "    maps_dict[(ind1, ind2)] = FM_12"
   ]
  },
  {
   "cell_type": "code",
   "execution_count": 29,
   "id": "59358198",
   "metadata": {},
   "outputs": [
    {
     "data": {
      "application/vnd.jupyter.widget-view+json": {
       "model_id": "01c93255b27445a993635748baac3c3c",
       "version_major": 2,
       "version_minor": 0
      },
      "text/plain": [
       "HBox(children=(Output(), Output()))"
      ]
     },
     "metadata": {},
     "output_type": "display_data"
    },
    {
     "data": {
      "application/vnd.jupyter.widget-view+json": {
       "model_id": "d354d7679c38479ea9f4b025e93f0a11",
       "version_major": 2,
       "version_minor": 0
      },
      "text/plain": [
       "HBox(children=(Output(), Output()))"
      ]
     },
     "metadata": {},
     "output_type": "display_data"
    }
   ],
   "source": [
    "# Display inital maps\n",
    "ind_1 = 0\n",
    "ind_2 = 1\n",
    "mesh1, mesh2 = mesh_list[ind_1], mesh_list[ind_2]\n",
    "map = maps_dict[(ind_1, ind_2)]\n",
    "p2p_21 = spectral.convert.mesh_FM_to_p2p(map, mesh1, mesh2) # is this conversion causing the issue? - I think it is!!!!\n",
    "\n",
    "# print(p2p_21.shape)\n",
    "# print(mesh1.vertlist.shape)\n",
    "# print(mesh2.vertlist.shape)\n",
    "\n",
    "# n = p2p_21.shape[0]\n",
    "# p2p_map = np.eye(N=n, dtype=int)\n",
    "\n",
    "# print(p2p_map.shape)\n",
    "\n",
    "cmap_1 = visu(mesh1.vertlist) # pointwise is 2 -> 1? so the map is applied to 2\n",
    "cmap_2 = cmap_1[p2p_21]\n",
    "double_plot(mesh1, mesh2, cmap_1, cmap_2)\n",
    "\n",
    "# print(cmap_1.dtype)\n",
    "# print(cmap_2.dtype)\n",
    "# print(cmap_1.shape)\n",
    "# print(cmap_2.shape)\n",
    "\n",
    "# min_coord,max_coord = np.min(cmap_2,axis=0,keepdims=True),np.max(cmap_2,axis=0,keepdims=True)\n",
    "# newCmap_2 = (cmap_2-min_coord)/(max_coord-min_coord)\n",
    "# print(min_coord)\n",
    "# print(max_coord)\n",
    "\n",
    "# p2p_21_1 = np.loadtxt(f'./data/bim_maps/bim_maps/382_381.map', dtype=int)\n",
    "# cmap_2 = visu(mesh2.vertlist)\n",
    "# cmap_2_1 = cmap_2[p2p_21_1]\n",
    "\n",
    "# double_plot(mesh2, mesh2, cmap_2, cmap_2_1)"
   ]
  },
  {
   "cell_type": "markdown",
   "id": "47dbdae1",
   "metadata": {},
   "source": [
    "## Create Functional Map Network \n",
    "Analyse the Embeddings before applying CZ. Will probably just make this a function to apply in the analysis stages of the project"
   ]
  },
  {
   "cell_type": "code",
   "execution_count": 53,
   "id": "63ec17be",
   "metadata": {},
   "outputs": [
    {
     "name": "stdout",
     "output_type": "stream",
     "text": [
      "Setting 380 edges on 20 nodes.\n",
      "Computing cycle information\n",
      "Optimizing Cycle Weights...\n",
      "\tDone in 0.09670s\n",
      "Computing 30 CLB eigenvectors...\n",
      "\tDone in 0.1s\n"
     ]
    },
    {
     "data": {
      "text/plain": [
       "<pyFM.FMN.FMN.FMN at 0x773415abe3e0>"
      ]
     },
     "execution_count": 53,
     "metadata": {},
     "output_type": "execute_result"
    }
   ],
   "source": [
    "# Build the network\n",
    "fmn_model = FMN(mesh_list, maps_dict.copy())\n",
    "\n",
    "# Compute CCLB\n",
    "fmn_model.compute_CCLB(m=20)"
   ]
  },
  {
   "cell_type": "code",
   "execution_count": 54,
   "id": "39ebbac2",
   "metadata": {},
   "outputs": [],
   "source": [
    "# embedding for area and conformal charecteristic shape difference operator using the CCLB\n",
    "# will we have an embedding for sequences and stuff here then? - or is that supposed to be an alterative to the CCLB or something\n",
    "all_embs_a = []\n",
    "all_embs_c = []\n",
    "\n",
    "for i in range(fmn_model.n_meshes):\n",
    "    CSD_a, CSD_c = fmn_model.get_CSD(i)\n",
    "\n",
    "    all_embs_a.append(CSD_a.flatten())\n",
    "    all_embs_c.append(CSD_c.flatten())\n",
    "\n",
    "all_embs_a = np.array(all_embs_a)\n",
    "all_embs_c = np.array(all_embs_c)"
   ]
  },
  {
   "cell_type": "code",
   "execution_count": 55,
   "id": "a0a308f2",
   "metadata": {},
   "outputs": [
    {
     "data": {
      "text/plain": [
       "Text(0.5, 1.0, 'Conformal CSD')"
      ]
     },
     "execution_count": 55,
     "metadata": {},
     "output_type": "execute_result"
    },
    {
     "data": {
      "image/png": "[encoded data removed]",
      "text/plain": [
       "<Figure size 1500x500 with 2 Axes>"
      ]
     },
     "metadata": {},
     "output_type": "display_data"
    }
   ],
   "source": [
    "# Apply PCA (Principal Component Analysis) on the embedding to visualize the results\n",
    "import matplotlib.pyplot as plt\n",
    "from sklearn.decomposition import PCA\n",
    "pca_model = PCA(n_components=2)\n",
    "emb_red_a = pca_model.fit_transform(all_embs_a)\n",
    "emb_red_c = pca_model.fit_transform(all_embs_c)\n",
    "\n",
    "# Display\n",
    "_, axs = plt.subplots(1, 2, figsize=(15, 5))\n",
    "\n",
    "axs[0].scatter(emb_red_a[:, 0], emb_red_a[:, 1], c=np.arange(len(emb_red_a)))\n",
    "axs[0].set_title('Area CSD')\n",
    "\n",
    "axs[1].scatter(emb_red_c[:, 0], emb_red_c[:, 1], c=np.arange(len(emb_red_c)))\n",
    "axs[1].set_title('Conformal CSD')"
   ]
  },
  {
   "cell_type": "markdown",
   "id": "b3952521",
   "metadata": {},
   "source": [
    "## Consistent Zoomout\n",
    "\n",
    "the matlab demo uses:\n",
    "iterations = 25,\n",
    "zoomout =  from dim 30 to 80 with step of 2,\n",
    "subsample = 1000,\n",
    "weights = icsm,\n",
    "alpha = 0.9,"
   ]
  },
  {
   "cell_type": "code",
   "execution_count": 56,
   "id": "bcc8ef3a",
   "metadata": {},
   "outputs": [
    {
     "name": "stdout",
     "output_type": "stream",
     "text": [
      "Computing a 1000-sized subsample for each mesh\n"
     ]
    },
    {
     "data": {
      "application/vnd.jupyter.widget-view+json": {
       "model_id": "8e2e443d92424a618f3c2a14055e1305",
       "version_major": 2,
       "version_minor": 0
      },
      "text/plain": [
       "  0%|          | 0/24 [00:00<?, ?it/s]"
      ]
     },
     "metadata": {},
     "output_type": "display_data"
    },
    {
     "name": "stdout",
     "output_type": "stream",
     "text": [
      "Optimizing Cycle Weights...\n",
      "\tDone in 0.11105s\n",
      "Computing 78 CLB eigenvectors...\n",
      "\tDone in 0.5s\n"
     ]
    },
    {
     "data": {
      "text/plain": [
       "(70,)"
      ]
     },
     "execution_count": 56,
     "metadata": {},
     "output_type": "execute_result"
    }
   ],
   "source": [
    "fmn_model.zoomout_refine(nit=25, step=2, subsample=1000, isometric=True, weight_type='icsm',\n",
    "                    M_init=None, cclb_ratio=.9, n_jobs=1, equals_id=False,\n",
    "                    verbose=True)\n",
    "\n",
    "fmn_model.compute_CCLB(m=int(0.9*fmn_model.M))\n",
    "fmn_model.cclb_eigenvalues.shape"
   ]
  },
  {
   "cell_type": "code",
   "execution_count": 91,
   "id": "f04213b5",
   "metadata": {},
   "outputs": [],
   "source": [
    "# to save the model\n",
    "import pickle as p\n",
    "# save\n",
    "with open(\"../../fmn_model_CZ.pkl\", \"wb\") as f:\n",
    "    p.dump(fmn_model, f)\n",
    "\n",
    "# # load\n",
    "# with open(\"../../fmn_model_CZ.pkl\", \"rb\") as f:\n",
    "#     fmn_model = p.load(f)"
   ]
  },
  {
   "cell_type": "markdown",
   "id": "e31e5f17",
   "metadata": {},
   "source": [
    "Analyse the embeddings after CZ"
   ]
  },
  {
   "cell_type": "code",
   "execution_count": 35,
   "id": "c7c17871",
   "metadata": {},
   "outputs": [],
   "source": [
    "all_embs_a = []\n",
    "all_embs_c = []\n",
    "\n",
    "for i in range(fmn_model.n_meshes):\n",
    "    CSD_a, CSD_c = fmn_model.get_CSD(i)\n",
    "\n",
    "    all_embs_a.append(CSD_a.flatten())\n",
    "    all_embs_c.append(CSD_c.flatten())\n",
    "\n",
    "all_embs_a = np.array(all_embs_a)\n",
    "all_embs_c = np.array(all_embs_c)"
   ]
  },
  {
   "cell_type": "code",
   "execution_count": 36,
   "id": "518b9462",
   "metadata": {},
   "outputs": [
    {
     "data": {
      "text/plain": [
       "Text(0.5, 1.0, 'Conformal CSD')"
      ]
     },
     "execution_count": 36,
     "metadata": {},
     "output_type": "execute_result"
    },
    {
     "data": {
      "image/png": "[encoded data removed]",
      "text/plain": [
       "<Figure size 1500x500 with 2 Axes>"
      ]
     },
     "metadata": {},
     "output_type": "display_data"
    }
   ],
   "source": [
    "import matplotlib.pyplot as plt\n",
    "from sklearn.decomposition import PCA\n",
    "pca_model = PCA(n_components=2)\n",
    "emb_red_a = pca_model.fit_transform(all_embs_a)\n",
    "emb_red_c = pca_model.fit_transform(all_embs_c)\n",
    "\n",
    "_, axs = plt.subplots(1, 2, figsize=(15, 5))\n",
    "\n",
    "axs[0].scatter(emb_red_a[:, 0], emb_red_a[:, 1], c=np.arange(len(emb_red_a)))\n",
    "axs[0].set_title('Area CSD')\n",
    "\n",
    "axs[1].scatter(emb_red_c[:, 0], emb_red_c[:, 1], c=np.arange(len(emb_red_c)))\n",
    "axs[1].set_title('Conformal CSD')"
   ]
  },
  {
   "cell_type": "code",
   "execution_count": 45,
   "id": "7db2b562",
   "metadata": {},
   "outputs": [],
   "source": [
    "# Convert Back to PointWise Maps for Visualisation\n",
    "fmn_model.compute_p2p()"
   ]
  },
  {
   "cell_type": "code",
   "execution_count": 50,
   "id": "1b59e763",
   "metadata": {},
   "outputs": [
    {
     "data": {
      "application/vnd.jupyter.widget-view+json": {
       "model_id": "97327ccf0d9146bca87b09ce00d49f65",
       "version_major": 2,
       "version_minor": 0
      },
      "text/plain": [
       "HBox(children=(Output(), Output()))"
      ]
     },
     "metadata": {},
     "output_type": "display_data"
    },
    {
     "data": {
      "application/vnd.jupyter.widget-view+json": {
       "model_id": "0cf5b8d8f2d74cb1a91eefed4078f5bd",
       "version_major": 2,
       "version_minor": 0
      },
      "text/plain": [
       "HBox(children=(Output(), Output()))"
      ]
     },
     "metadata": {},
     "output_type": "display_data"
    }
   ],
   "source": [
    "new_p2p_dict = fmn_model.p2p\n",
    "ind_1 = 0\n",
    "ind_2 = 1\n",
    "\n",
    "mesh1, mesh2 = mesh_list[ind_1], mesh_list[ind_2]\n",
    "new_p2p_map = new_p2p_dict[(ind_1, ind_2)]\n",
    "\n",
    "cmap_1 = visu(mesh1.vertlist) # pointwise is 2 -> 1? so the map is applied to ?\n",
    "cmap_2 = cmap_1[new_p2p_map]\n",
    "double_plot(mesh1, mesh2, cmap_1, cmap_2)\n",
    "\n"
   ]
  },
  {
   "cell_type": "code",
   "execution_count": 37,
   "id": "3c8f5818",
   "metadata": {},
   "outputs": [
    {
     "data": {
      "application/vnd.jupyter.widget-view+json": {
       "model_id": "f866903ca14d4f4cb63710241be40550",
       "version_major": 2,
       "version_minor": 0
      },
      "text/plain": [
       "HBox(children=(Output(), Output()))"
      ]
     },
     "metadata": {},
     "output_type": "display_data"
    },
    {
     "data": {
      "application/vnd.jupyter.widget-view+json": {
       "model_id": "ba225128147444ba873023a6232562c9",
       "version_major": 2,
       "version_minor": 0
      },
      "text/plain": [
       "HBox(children=(Output(), Output()))"
      ]
     },
     "metadata": {},
     "output_type": "display_data"
    }
   ],
   "source": [
    "# For Display\n",
    "ind_1 = 1 # mesh 2 is the horse\n",
    "ind_2 = 3 # mesh 4 is the wolf\n",
    "\n",
    "new_maps_dict = fmn_model.maps\n",
    "map = new_maps_dict[ind_1, ind_2]\n",
    "mesh1, mesh2 = mesh_list[ind_1], mesh_list[ind_2]\n",
    "\n",
    "p2p_21 = spectral.convert.mesh_FM_to_p2p(map, mesh1, mesh2)\n",
    "\n",
    "cmap_1 = visu(mesh1.vertlist) # pointwise is 2 -> 1? so the map is applied to ?\n",
    "cmap_2 = cmap_1[p2p_21]\n",
    "double_plot(mesh1, mesh2, cmap_1, cmap_2)\n",
    "\n",
    "# for idx, map in tqdm(new_maps_dict):\n",
    "#     print(idx)\n",
    "\n",
    "    # # Retrive corresponding meshes\n",
    "    # mesh1, mesh2 = mesh_list[ind_1], mesh_list[ind_2]\n",
    "\n",
    "    # # Display maps\n",
    "    # if ind_1 < 1 and ind_2 < 2:\n",
    "    #     # Convert to p2p\n",
    "    #     p2p_map = spectral.convert.mesh_FM_to_p2p(map, mesh2, mesh1, subsample=3000)\n",
    "        \n",
    "    #     cmap_2 = visu(mesh2.vertlist) # pointwise is 2 -> 1? \n",
    "    #     cmap_1 = cmap_2[p2p_map]\n",
    "    #     double_plot(mesh2, mesh1, cmap_2, cmap_1)\n",
    "    \n",
    "    "
   ]
  }
 ],
 "metadata": {
  "kernelspec": {
   "display_name": "capstone",
   "language": "python",
   "name": "python3"
  },
  "language_info": {
   "codemirror_mode": {
    "name": "ipython",
    "version": 3
   },
   "file_extension": ".py",
   "mimetype": "text/x-python",
   "name": "python",
   "nbconvert_exporter": "python",
   "pygments_lexer": "ipython3",
   "version": "3.10.18"
  }
 },
 "nbformat": 4,
 "nbformat_minor": 5
}
