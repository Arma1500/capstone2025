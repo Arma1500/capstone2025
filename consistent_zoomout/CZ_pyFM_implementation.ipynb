{
 "cells": [
  {
   "cell_type": "code",
   "execution_count": 1,
   "id": "1d499a67",
   "metadata": {},
   "outputs": [],
   "source": [
    "import os\n",
    "import numpy as np\n",
    "\n",
    "from pyFM.mesh import TriMesh\n",
    "from tqdm.auto import tqdm\n",
    "\n",
    "import meshplot as mp\n",
    "\n",
    "def plot_mesh(myMesh,cmap=None):\n",
    "    mp.plot(myMesh.vertlist, myMesh.facelist,c=cmap)\n",
    "    \n",
    "def double_plot(myMesh1,myMesh2,cmap1=None,cmap2=None):\n",
    "    d = mp.subplot(myMesh1.vertlist, myMesh1.facelist, c=cmap1, s=[2, 2, 0])\n",
    "    mp.subplot(myMesh2.vertlist, myMesh2.facelist, c=cmap2, s=[2, 2, 1], data=d)\n",
    "\n",
    "def visu(vertices):\n",
    "    min_coord,max_coord = np.min(vertices,axis=0,keepdims=True),np.max(vertices,axis=0,keepdims=True)\n",
    "    cmap = (vertices-min_coord)/(max_coord-min_coord)\n",
    "    return cmap"
   ]
  },
  {
   "cell_type": "markdown",
   "id": "28e0ffdc",
   "metadata": {},
   "source": [
    "## Load Meshes and Maps\n",
    "\n",
    "will run MATLAB demo and compare:\n",
    "1. if the order the meshes are being called is correct\n",
    "2. if the correct maps are being loaded\n",
    "\n",
    "\n",
    "also need to see how they are evaluating everything"
   ]
  },
  {
   "cell_type": "code",
   "execution_count": 2,
   "id": "5e7b011a",
   "metadata": {},
   "outputs": [],
   "source": [
    "mesh_list = []\n",
    "for i in range(381,401,1):\n",
    "    mesh = TriMesh(f'data/shapes/shapes/{i:02d}.off', area_normalize=True, center=True).process(k=150, intrinsic=True)\n",
    "    mesh_list.append(mesh)"
   ]
  },
  {
   "cell_type": "code",
   "execution_count": 11,
   "id": "1ffbb14e",
   "metadata": {},
   "outputs": [
    {
     "data": {
      "application/vnd.jupyter.widget-view+json": {
       "model_id": "d74b43173b7d40f7a99f3a11f8f5b1eb",
       "version_major": 2,
       "version_minor": 0
      },
      "text/plain": [
       "  0%|          | 0/380 [00:00<?, ?it/s]"
      ]
     },
     "metadata": {},
     "output_type": "display_data"
    },
    {
     "data": {
      "application/vnd.jupyter.widget-view+json": {
       "model_id": "f3d25932e4c646ae812973b2adfd7754",
       "version_major": 2,
       "version_minor": 0
      },
      "text/plain": [
       "HBox(children=(Output(), Output()))"
      ]
     },
     "metadata": {},
     "output_type": "display_data"
    },
    {
     "data": {
      "application/vnd.jupyter.widget-view+json": {
       "model_id": "5bc2cdcbd19147dda2db26805148226b",
       "version_major": 2,
       "version_minor": 0
      },
      "text/plain": [
       "HBox(children=(Output(), Output()))"
      ]
     },
     "metadata": {},
     "output_type": "display_data"
    },
    {
     "data": {
      "application/vnd.jupyter.widget-view+json": {
       "model_id": "f78d988f8cae4e0cb0d00510cb053da0",
       "version_major": 2,
       "version_minor": 0
      },
      "text/plain": [
       "HBox(children=(Output(), Output()))"
      ]
     },
     "metadata": {},
     "output_type": "display_data"
    },
    {
     "data": {
      "application/vnd.jupyter.widget-view+json": {
       "model_id": "b054f2b997c54973a1bf2284f268cc95",
       "version_major": 2,
       "version_minor": 0
      },
      "text/plain": [
       "HBox(children=(Output(), Output()))"
      ]
     },
     "metadata": {},
     "output_type": "display_data"
    }
   ],
   "source": [
    "import pyFM.spectral as spectral\n",
    "\n",
    "map_files = os.listdir('./data/bim_maps/bim_maps/')\n",
    "index_offset = 381\n",
    "maps_dict = {}\n",
    "K = 30 # Size of initial functional maps, small value since our initial maps have noise - from the FMN Example\n",
    "\n",
    "for map_file in tqdm(map_files):\n",
    "    ind1, ind2s = map_file.split(\"_\")\n",
    "    ind2, _ = ind2s.split(\".\")\n",
    "    ind1 = int(ind1); ind2 = int(ind2)\n",
    "\n",
    "    ind1 = ind1 - index_offset; ind2 = ind2 - index_offset\n",
    "\n",
    "    mesh1, mesh2 = mesh_list[ind1], mesh_list[ind2]\n",
    "    \n",
    "    p2p_21 = np.loadtxt(f'./data/bim_maps/bim_maps/{map_file}', dtype=int)\n",
    "\n",
    "    if ind1 < 1 and ind2 < 3:\n",
    "        cmap_2 = visu(mesh2.vertlist)\n",
    "        cmap_1 = cmap_2[p2p_21]\n",
    "        double_plot(mesh2, mesh1, cmap_2, cmap_1)\n",
    "\n",
    "   \n",
    "    # # Convert to functional map\n",
    "    # FM_12 = spectral.mesh_p2p_to_FM(p2p_21, mesh1, mesh2, dims=K)\n",
    "    # # Populate the dictionary\n",
    "    # maps_dict[(ind1-1, ind2-1)] = FM_12"
   ]
  },
  {
   "cell_type": "code",
   "execution_count": null,
   "id": "bb5dae01",
   "metadata": {},
   "outputs": [
    {
     "ename": "IndexError",
     "evalue": "index 8649 is out of bounds for axis 0 with size 6938",
     "output_type": "error",
     "traceback": [
      "\u001b[0;31m---------------------------------------------------------------------------\u001b[0m",
      "\u001b[0;31mIndexError\u001b[0m                                Traceback (most recent call last)",
      "Cell \u001b[0;32mIn[19], line 14\u001b[0m\n\u001b[1;32m     12\u001b[0m cmap_1 \u001b[38;5;241m=\u001b[39m visu(mesh_1\u001b[38;5;241m.\u001b[39mvertlist)             \u001b[38;5;66;03m# rainbow color for mesh 1\u001b[39;00m\n\u001b[1;32m     13\u001b[0m p2p_map \u001b[38;5;241m=\u001b[39m map_mat[\u001b[38;5;241m0\u001b[39m][\u001b[38;5;241m4\u001b[39m] \u001b[38;5;241m-\u001b[39m \u001b[38;5;241m1\u001b[39m                \u001b[38;5;66;03m# subtract 1 if map is 1-based\u001b[39;00m\n\u001b[0;32m---> 14\u001b[0m cmap_2 \u001b[38;5;241m=\u001b[39m \u001b[43mcmap_1\u001b[49m\u001b[43m[\u001b[49m\u001b[43mp2p_map\u001b[49m\u001b[43m]\u001b[49m                   \u001b[38;5;66;03m# colors mapped to mesh 2\u001b[39;00m\n\u001b[1;32m     16\u001b[0m double_plot(mesh_1, mesh_2, cmap_1, cmap_2)\n",
      "\u001b[0;31mIndexError\u001b[0m: index 8649 is out of bounds for axis 0 with size 6938"
     ]
    }
   ],
   "source": [
    "# mesh_1 = mesh_list[0]\n",
    "# mesh_2 = mesh_list[4]\n",
    "\n",
    "# cmap_1 = map_mat[0][4]\n",
    "# cmap_2 = map_mat[4][0]\n",
    "\n",
    "# double_plot(mesh_1, mesh_2, cmap_1, cmap_2)\n",
    "\n",
    "mesh_1 = mesh_list[0]\n",
    "mesh_2 = mesh_list[4]\n",
    "\n",
    "cmap_1 = visu(mesh_1.vertlist)             # rainbow color for mesh 1            # subtract 1 if map is 1-based\n",
    "cmap_2 = cmap_1[p2p_map]                   # colors mapped to mesh 2\n",
    "\n",
    "double_plot(mesh_1, mesh_2, cmap_1, cmap_2)\n",
    "\n"
   ]
  },
  {
   "cell_type": "code",
   "execution_count": 3,
   "id": "c6fe75d9",
   "metadata": {},
   "outputs": [
    {
     "data": {
      "application/vnd.jupyter.widget-view+json": {
       "model_id": "264816fb7f5e48ff932b7392927298d0",
       "version_major": 2,
       "version_minor": 0
      },
      "text/plain": [
       "  0%|          | 0/380 [00:00<?, ?it/s]"
      ]
     },
     "metadata": {},
     "output_type": "display_data"
    },
    {
     "ename": "ValueError",
     "evalue": "too many values to unpack (expected 2)",
     "output_type": "error",
     "traceback": [
      "\u001b[0;31m---------------------------------------------------------------------------\u001b[0m",
      "\u001b[0;31mValueError\u001b[0m                                Traceback (most recent call last)",
      "Cell \u001b[0;32mIn[3], line 3\u001b[0m\n\u001b[1;32m      1\u001b[0m map_files \u001b[38;5;241m=\u001b[39m os\u001b[38;5;241m.\u001b[39mlistdir(\u001b[38;5;124m'\u001b[39m\u001b[38;5;124mdata/bim_maps/bim_maps\u001b[39m\u001b[38;5;124m'\u001b[39m)\n\u001b[0;32m----> 3\u001b[0m \u001b[38;5;28;01mfor\u001b[39;00m idx, map_filename \u001b[38;5;129;01min\u001b[39;00m tqdm(map_files):\n\u001b[1;32m      4\u001b[0m     ind1 \u001b[38;5;241m=\u001b[39m idx\n\u001b[1;32m      6\u001b[0m     \u001b[38;5;28;01mfor\u001b[39;00m i \u001b[38;5;129;01min\u001b[39;00m \u001b[38;5;28mrange\u001b[39m(\u001b[38;5;28mlen\u001b[39m(meshlist)):\n",
      "\u001b[0;31mValueError\u001b[0m: too many values to unpack (expected 2)"
     ]
    }
   ],
   "source": [
    "map_files = os.listdir('data/bim_maps/bim_maps')\n",
    "\n",
    "for idx, map_filename in tqdm(map_files):\n",
    "    ind1 = idx\n",
    "    \n",
    "    for i in range(len(meshlist)):\n",
    "        ind2 = i\n",
    "        if ind2 == ind1:\n",
    "            continue\n",
    "        else:\n",
    "\n",
    "            # Indicing starts at 1 in the names, but at 0 on the meshlist\n",
    "            mesh1, mesh2 = meshlist[ind1], meshlist[ind2]\n",
    "            \n",
    "            # Load the pointwise map\n",
    "            p2p_21 = np.loadtxt(f'../data/camel_gallop/maps/{map_filename}', dtype=int)\n",
    "\n",
    "            if ind1 < 1 and ind2 < 4:\n",
    "                cmap1 = visu(mesh1.vertlist); cmap2 = cmap1[p2p_21]\n",
    "                double_plot(mesh1, mesh2, cmap1, cmap2)"
   ]
  }
 ],
 "metadata": {
  "kernelspec": {
   "display_name": "capstone",
   "language": "python",
   "name": "python3"
  },
  "language_info": {
   "codemirror_mode": {
    "name": "ipython",
    "version": 3
   },
   "file_extension": ".py",
   "mimetype": "text/x-python",
   "name": "python",
   "nbconvert_exporter": "python",
   "pygments_lexer": "ipython3",
   "version": "3.10.18"
  }
 },
 "nbformat": 4,
 "nbformat_minor": 5
}
